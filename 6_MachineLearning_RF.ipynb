{
  "nbformat": 4,
  "nbformat_minor": 0,
  "metadata": {
    "colab": {
      "name": "6_MachineLearning_RF.ipynb",
      "version": "0.3.2",
      "provenance": [],
      "collapsed_sections": []
    },
    "kernelspec": {
      "name": "python3",
      "display_name": "Python 3"
    }
  },
  "cells": [
    {
      "cell_type": "markdown",
      "metadata": {
        "id": "ErjSfFj0mAsU",
        "colab_type": "text"
      },
      "source": [
        "# 머신러닝 - Random forest"
      ]
    },
    {
      "cell_type": "code",
      "metadata": {
        "id": "jIZSImzVG0K0",
        "colab_type": "code",
        "colab": {}
      },
      "source": [
        "import os\n",
        "import pandas as pd\n",
        "import numpy as np\n",
        "import matplotlib.pyplot as plt\n",
        "import pickle"
      ],
      "execution_count": 0,
      "outputs": []
    },
    {
      "cell_type": "code",
      "metadata": {
        "id": "KGwfYs0F05HQ",
        "colab_type": "code",
        "colab": {}
      },
      "source": [
        "from sklearn.preprocessing import StandardScaler\n",
        "from sklearn.model_selection import train_test_split\n",
        "from sklearn.model_selection import GridSearchCV\n",
        "from sklearn.ensemble import RandomForestRegressor\n",
        "from sklearn.metrics import r2_score\n",
        "from sklearn.metrics import mean_squared_error\n",
        "from sklearn.metrics import mean_absolute_error"
      ],
      "execution_count": 0,
      "outputs": []
    },
    {
      "cell_type": "code",
      "metadata": {
        "id": "N1xLVDaRG7RC",
        "colab_type": "code",
        "outputId": "c9797b54-f5b2-45cc-d872-d187e67a68af",
        "colab": {
          "base_uri": "https://localhost:8080/",
          "height": 35
        }
      },
      "source": [
        "from google.colab import drive\n",
        "drive.mount('/content/drive')"
      ],
      "execution_count": 16,
      "outputs": [
        {
          "output_type": "stream",
          "text": [
            "Drive already mounted at /content/drive; to attempt to forcibly remount, call drive.mount(\"/content/drive\", force_remount=True).\n"
          ],
          "name": "stdout"
        }
      ]
    },
    {
      "cell_type": "code",
      "metadata": {
        "id": "mdKjxaCAG7TI",
        "colab_type": "code",
        "colab": {}
      },
      "source": [
        "os.chdir('/content/drive/My Drive/gold/data')"
      ],
      "execution_count": 0,
      "outputs": []
    },
    {
      "cell_type": "code",
      "metadata": {
        "id": "OE9YVdXqG7V0",
        "colab_type": "code",
        "colab": {}
      },
      "source": [
        "# 데이터 불러오기\n",
        "gold = pickle.load(open('gold_price.pkl','rb'))"
      ],
      "execution_count": 0,
      "outputs": []
    },
    {
      "cell_type": "code",
      "metadata": {
        "id": "vWYIj52_-Nhn",
        "colab_type": "code",
        "colab": {}
      },
      "source": [
        "# 데이터 추출\n",
        "feature = gold.loc[:, ['index_price', 'cny/krw', 'usd/krw', '100jpy/krw', 'eur/krw', 'gbp/krw', 'nasdaq', 'kospi', 'dow', 'snp500']]"
      ],
      "execution_count": 0,
      "outputs": []
    },
    {
      "cell_type": "code",
      "metadata": {
        "id": "4iNKiT_MG7Y2",
        "colab_type": "code",
        "colab": {}
      },
      "source": [
        "# 데이터 추출\n",
        "feature = gold.loc[:, ['index_price', 'cny/krw', 'usd/krw', '100jpy/krw',\n",
        "                       'eur/krw', 'gbp/krw', 'nasdaq', 'kospi', 'dow',\n",
        "                       'snp500']]\n",
        "# scale\n",
        "scaler = StandardScaler()\n",
        "scaler.fit(feature)\n",
        "X_scaled = scaler.transform(feature)\n",
        "X_scaled = pd.DataFrame(X_scaled)"
      ],
      "execution_count": 0,
      "outputs": []
    },
    {
      "cell_type": "code",
      "metadata": {
        "id": "7rLoS5VmV6aF",
        "colab_type": "code",
        "outputId": "d52d56a7-d9dd-42c7-906e-d9b2a96fd510",
        "colab": {
          "base_uri": "https://localhost:8080/",
          "height": 168
        }
      },
      "source": [
        "feature.head(3)"
      ],
      "execution_count": 21,
      "outputs": [
        {
          "output_type": "execute_result",
          "data": {
            "text/html": [
              "<div>\n",
              "<style scoped>\n",
              "    .dataframe tbody tr th:only-of-type {\n",
              "        vertical-align: middle;\n",
              "    }\n",
              "\n",
              "    .dataframe tbody tr th {\n",
              "        vertical-align: top;\n",
              "    }\n",
              "\n",
              "    .dataframe thead th {\n",
              "        text-align: right;\n",
              "    }\n",
              "</style>\n",
              "<table border=\"1\" class=\"dataframe\">\n",
              "  <thead>\n",
              "    <tr style=\"text-align: right;\">\n",
              "      <th></th>\n",
              "      <th>index_price</th>\n",
              "      <th>cny/krw</th>\n",
              "      <th>usd/krw</th>\n",
              "      <th>100jpy/krw</th>\n",
              "      <th>eur/krw</th>\n",
              "      <th>gbp/krw</th>\n",
              "      <th>nasdaq</th>\n",
              "      <th>kospi</th>\n",
              "      <th>dow</th>\n",
              "      <th>snp500</th>\n",
              "    </tr>\n",
              "    <tr>\n",
              "      <th>Date</th>\n",
              "      <th></th>\n",
              "      <th></th>\n",
              "      <th></th>\n",
              "      <th></th>\n",
              "      <th></th>\n",
              "      <th></th>\n",
              "      <th></th>\n",
              "      <th></th>\n",
              "      <th></th>\n",
              "      <th></th>\n",
              "    </tr>\n",
              "  </thead>\n",
              "  <tbody>\n",
              "    <tr>\n",
              "      <th>2010-01-04</th>\n",
              "      <td>77.830</td>\n",
              "      <td>168.83</td>\n",
              "      <td>1152.5</td>\n",
              "      <td>1240.85</td>\n",
              "      <td>1650.50</td>\n",
              "      <td>1861.06</td>\n",
              "      <td>2303.361914</td>\n",
              "      <td>1690.367993</td>\n",
              "      <td>10526.854102</td>\n",
              "      <td>1126.594019</td>\n",
              "    </tr>\n",
              "    <tr>\n",
              "      <th>2010-01-05</th>\n",
              "      <td>77.850</td>\n",
              "      <td>167.27</td>\n",
              "      <td>1142.0</td>\n",
              "      <td>1241.17</td>\n",
              "      <td>1646.99</td>\n",
              "      <td>1832.45</td>\n",
              "      <td>2306.808008</td>\n",
              "      <td>1694.339990</td>\n",
              "      <td>10567.135547</td>\n",
              "      <td>1134.398023</td>\n",
              "    </tr>\n",
              "    <tr>\n",
              "      <th>2010-01-06</th>\n",
              "      <td>77.655</td>\n",
              "      <td>166.45</td>\n",
              "      <td>1136.5</td>\n",
              "      <td>1233.32</td>\n",
              "      <td>1628.60</td>\n",
              "      <td>1821.47</td>\n",
              "      <td>2303.928027</td>\n",
              "      <td>1702.301978</td>\n",
              "      <td>10570.723828</td>\n",
              "      <td>1136.625977</td>\n",
              "    </tr>\n",
              "  </tbody>\n",
              "</table>\n",
              "</div>"
            ],
            "text/plain": [
              "            index_price  cny/krw  ...           dow       snp500\n",
              "Date                              ...                           \n",
              "2010-01-04       77.830   168.83  ...  10526.854102  1126.594019\n",
              "2010-01-05       77.850   167.27  ...  10567.135547  1134.398023\n",
              "2010-01-06       77.655   166.45  ...  10570.723828  1136.625977\n",
              "\n",
              "[3 rows x 10 columns]"
            ]
          },
          "metadata": {
            "tags": []
          },
          "execution_count": 21
        }
      ]
    },
    {
      "cell_type": "code",
      "metadata": {
        "id": "vmrAqI_6Vj1t",
        "colab_type": "code",
        "outputId": "1c573e92-0173-4d89-9da1-6081d2368f1c",
        "colab": {
          "base_uri": "https://localhost:8080/",
          "height": 138
        }
      },
      "source": [
        "X_scaled.head(3)"
      ],
      "execution_count": 22,
      "outputs": [
        {
          "output_type": "execute_result",
          "data": {
            "text/html": [
              "<div>\n",
              "<style scoped>\n",
              "    .dataframe tbody tr th:only-of-type {\n",
              "        vertical-align: middle;\n",
              "    }\n",
              "\n",
              "    .dataframe tbody tr th {\n",
              "        vertical-align: top;\n",
              "    }\n",
              "\n",
              "    .dataframe thead th {\n",
              "        text-align: right;\n",
              "    }\n",
              "</style>\n",
              "<table border=\"1\" class=\"dataframe\">\n",
              "  <thead>\n",
              "    <tr style=\"text-align: right;\">\n",
              "      <th></th>\n",
              "      <th>0</th>\n",
              "      <th>1</th>\n",
              "      <th>2</th>\n",
              "      <th>3</th>\n",
              "      <th>4</th>\n",
              "      <th>5</th>\n",
              "      <th>6</th>\n",
              "      <th>7</th>\n",
              "      <th>8</th>\n",
              "      <th>9</th>\n",
              "    </tr>\n",
              "  </thead>\n",
              "  <tbody>\n",
              "    <tr>\n",
              "      <th>0</th>\n",
              "      <td>-1.221158</td>\n",
              "      <td>-0.632753</td>\n",
              "      <td>0.730331</td>\n",
              "      <td>0.593997</td>\n",
              "      <td>2.378840</td>\n",
              "      <td>1.425178</td>\n",
              "      <td>-1.289121</td>\n",
              "      <td>-1.755451</td>\n",
              "      <td>-1.367672</td>\n",
              "      <td>-1.409943</td>\n",
              "    </tr>\n",
              "    <tr>\n",
              "      <th>1</th>\n",
              "      <td>-1.218724</td>\n",
              "      <td>-0.871076</td>\n",
              "      <td>0.490645</td>\n",
              "      <td>0.595799</td>\n",
              "      <td>2.347543</td>\n",
              "      <td>1.222797</td>\n",
              "      <td>-1.287163</td>\n",
              "      <td>-1.735130</td>\n",
              "      <td>-1.359342</td>\n",
              "      <td>-1.395903</td>\n",
              "    </tr>\n",
              "    <tr>\n",
              "      <th>2</th>\n",
              "      <td>-1.242461</td>\n",
              "      <td>-0.996349</td>\n",
              "      <td>0.365095</td>\n",
              "      <td>0.551596</td>\n",
              "      <td>2.183565</td>\n",
              "      <td>1.145126</td>\n",
              "      <td>-1.288800</td>\n",
              "      <td>-1.694395</td>\n",
              "      <td>-1.358600</td>\n",
              "      <td>-1.391894</td>\n",
              "    </tr>\n",
              "  </tbody>\n",
              "</table>\n",
              "</div>"
            ],
            "text/plain": [
              "          0         1         2  ...         7         8         9\n",
              "0 -1.221158 -0.632753  0.730331  ... -1.755451 -1.367672 -1.409943\n",
              "1 -1.218724 -0.871076  0.490645  ... -1.735130 -1.359342 -1.395903\n",
              "2 -1.242461 -0.996349  0.365095  ... -1.694395 -1.358600 -1.391894\n",
              "\n",
              "[3 rows x 10 columns]"
            ]
          },
          "metadata": {
            "tags": []
          },
          "execution_count": 22
        }
      ]
    },
    {
      "cell_type": "code",
      "metadata": {
        "id": "W2ZqHC7l4Jk_",
        "colab_type": "code",
        "colab": {}
      },
      "source": [
        "# 데이터 분할 하기\n",
        "X_train, X_test, y_train, y_test = train_test_split(X_scaled, gold['USD/T.oz'], shuffle=False, test_size=0.3)"
      ],
      "execution_count": 0,
      "outputs": []
    },
    {
      "cell_type": "code",
      "metadata": {
        "id": "DG6XBhGyJZGh",
        "colab_type": "code",
        "outputId": "6ba83afd-c314-4ac8-b73c-7b1d0be208b6",
        "colab": {
          "base_uri": "https://localhost:8080/",
          "height": 35
        }
      },
      "source": [
        "X_train.shape, X_test.shape, y_train.shape, y_test.shape"
      ],
      "execution_count": 24,
      "outputs": [
        {
          "output_type": "execute_result",
          "data": {
            "text/plain": [
              "((1608, 10), (690, 10), (1608,), (690,))"
            ]
          },
          "metadata": {
            "tags": []
          },
          "execution_count": 24
        }
      ]
    },
    {
      "cell_type": "code",
      "metadata": {
        "id": "MsriXDEYG7eq",
        "colab_type": "code",
        "colab": {}
      },
      "source": [
        "# X = gold['index_price'].values\n",
        "# y = gold['USD/T.oz'].values"
      ],
      "execution_count": 0,
      "outputs": []
    },
    {
      "cell_type": "code",
      "metadata": {
        "id": "zO_Ze-t8G7jq",
        "colab_type": "code",
        "colab": {}
      },
      "source": [
        "# X = X.reshape(-1, 1)\n",
        "# y = y.reshape(-1, 1)"
      ],
      "execution_count": 0,
      "outputs": []
    },
    {
      "cell_type": "markdown",
      "metadata": {
        "id": "1GLEOoT-x3wr",
        "colab_type": "text"
      },
      "source": [
        "# Test1\n",
        "### control: n_estimators, max_features, min_samples_leaf"
      ]
    },
    {
      "cell_type": "code",
      "metadata": {
        "id": "mIRZ-rreG7mE",
        "colab_type": "code",
        "outputId": "acb60a06-0322-422e-bca4-0cf62f9f29da",
        "colab": {
          "base_uri": "https://localhost:8080/",
          "height": 401
        }
      },
      "source": [
        "# 모델 정의\n",
        "rm = RandomForestRegressor(criterion='mse', random_state=0, n_jobs=-1)\n",
        "params = {'n_estimators': [500,1000], 'max_features': ['auto', 'sqrt']}\n",
        "\n",
        "rm_cv = GridSearchCV(rm, params, return_train_score=True, error_score='raise', cv=5)\n",
        "rm_cv.fit(X_train, y_train)"
      ],
      "execution_count": 27,
      "outputs": [
        {
          "output_type": "stream",
          "text": [
            "/usr/local/lib/python3.6/dist-packages/sklearn/model_selection/_search.py:814: DeprecationWarning: The default of the `iid` parameter will change from True to False in version 0.22 and will be removed in 0.24. This will change numeric results when test-set sizes are unequal.\n",
            "  DeprecationWarning)\n"
          ],
          "name": "stderr"
        },
        {
          "output_type": "execute_result",
          "data": {
            "text/plain": [
              "GridSearchCV(cv=5, error_score='raise',\n",
              "             estimator=RandomForestRegressor(bootstrap=True, criterion='mse',\n",
              "                                             max_depth=None,\n",
              "                                             max_features='auto',\n",
              "                                             max_leaf_nodes=None,\n",
              "                                             min_impurity_decrease=0.0,\n",
              "                                             min_impurity_split=None,\n",
              "                                             min_samples_leaf=1,\n",
              "                                             min_samples_split=2,\n",
              "                                             min_weight_fraction_leaf=0.0,\n",
              "                                             n_estimators='warn', n_jobs=-1,\n",
              "                                             oob_score=False, random_state=0,\n",
              "                                             verbose=0, warm_start=False),\n",
              "             iid='warn', n_jobs=None,\n",
              "             param_grid={'max_features': ['auto', 'sqrt'],\n",
              "                         'n_estimators': [500, 1000]},\n",
              "             pre_dispatch='2*n_jobs', refit=True, return_train_score=True,\n",
              "             scoring=None, verbose=0)"
            ]
          },
          "metadata": {
            "tags": []
          },
          "execution_count": 27
        }
      ]
    },
    {
      "cell_type": "code",
      "metadata": {
        "id": "sR5MHNUOckNX",
        "colab_type": "code",
        "outputId": "638ef52d-1170-48cc-ca45-72b401326e9f",
        "colab": {
          "base_uri": "https://localhost:8080/",
          "height": 35
        }
      },
      "source": [
        "# best 파라미터\n",
        "rm_cv.best_params_"
      ],
      "execution_count": 28,
      "outputs": [
        {
          "output_type": "execute_result",
          "data": {
            "text/plain": [
              "{'max_features': 'sqrt', 'n_estimators': 1000}"
            ]
          },
          "metadata": {
            "tags": []
          },
          "execution_count": 28
        }
      ]
    },
    {
      "cell_type": "code",
      "metadata": {
        "id": "xStfNDjZcnq1",
        "colab_type": "code",
        "outputId": "f7266fdf-f73d-4ac1-97f5-f047a34b832b",
        "colab": {
          "base_uri": "https://localhost:8080/",
          "height": 145
        }
      },
      "source": [
        "# best 파라미터로 모델 fit\n",
        "rm_best = RandomForestRegressor(**rm_cv.best_params_)\n",
        "rm_best.fit(X_train, y_train)"
      ],
      "execution_count": 29,
      "outputs": [
        {
          "output_type": "execute_result",
          "data": {
            "text/plain": [
              "RandomForestRegressor(bootstrap=True, criterion='mse', max_depth=None,\n",
              "                      max_features='sqrt', max_leaf_nodes=None,\n",
              "                      min_impurity_decrease=0.0, min_impurity_split=None,\n",
              "                      min_samples_leaf=1, min_samples_split=2,\n",
              "                      min_weight_fraction_leaf=0.0, n_estimators=1000,\n",
              "                      n_jobs=None, oob_score=False, random_state=None,\n",
              "                      verbose=0, warm_start=False)"
            ]
          },
          "metadata": {
            "tags": []
          },
          "execution_count": 29
        }
      ]
    },
    {
      "cell_type": "code",
      "metadata": {
        "id": "OSCGmVYlWP8n",
        "colab_type": "code",
        "colab": {}
      },
      "source": [
        "# train data 확인\n",
        "train_pred = rm_best.predict(X_train)"
      ],
      "execution_count": 0,
      "outputs": []
    },
    {
      "cell_type": "code",
      "metadata": {
        "id": "wJ-wu4I7WQCw",
        "colab_type": "code",
        "outputId": "54261be0-68b1-4c24-ffd1-b608c545a4df",
        "colab": {
          "base_uri": "https://localhost:8080/",
          "height": 398
        }
      },
      "source": [
        "# 그래프로 확인\n",
        "plt.plot(gold.index[:1608], y_train, c='r')\n",
        "plt.plot(gold.index[:1608], train_pred, c='b')\n",
        "plt.legend()\n",
        "plt.show()"
      ],
      "execution_count": 31,
      "outputs": [
        {
          "output_type": "stream",
          "text": [
            "/usr/local/lib/python3.6/dist-packages/pandas/plotting/_converter.py:129: FutureWarning: Using an implicitly registered datetime converter for a matplotlib plotting method. The converter was registered by pandas on import. Future versions of pandas will require you to explicitly register matplotlib converters.\n",
            "\n",
            "To register the converters:\n",
            "\t>>> from pandas.plotting import register_matplotlib_converters\n",
            "\t>>> register_matplotlib_converters()\n",
            "  warnings.warn(msg, FutureWarning)\n"
          ],
          "name": "stderr"
        },
        {
          "output_type": "display_data",
          "data": {
            "image/png": "[encoded data removed]",
            "text/plain": [
              "<Figure size 432x288 with 1 Axes>"
            ]
          },
          "metadata": {
            "tags": []
          }
        }
      ]
    },
    {
      "cell_type": "code",
      "metadata": {
        "id": "X2Qb9nSb5mhZ",
        "colab_type": "code",
        "colab": {}
      },
      "source": [
        "# 모델 예측\n",
        "pred = rm_best.predict(X_test)"
      ],
      "execution_count": 0,
      "outputs": []
    },
    {
      "cell_type": "code",
      "metadata": {
        "id": "Uj7EBXXNH8Bt",
        "colab_type": "code",
        "outputId": "53f9de0d-4899-40c6-fd24-07c0f2e460dc",
        "colab": {
          "base_uri": "https://localhost:8080/",
          "height": 54
        }
      },
      "source": [
        "# rmse\n",
        "rmse = mean_squared_error(y_test, pred)**0.5\n",
        "print('rmse: {:.3f}'.format(rmse))\n",
        "\n",
        "# mae\n",
        "mae = mean_absolute_error(y_test, pred)\n",
        "print('mae: {:.3f}'.format(mae))"
      ],
      "execution_count": 34,
      "outputs": [
        {
          "output_type": "stream",
          "text": [
            "rmse: 50.260\n",
            "mae: 40.478\n"
          ],
          "name": "stdout"
        }
      ]
    },
    {
      "cell_type": "code",
      "metadata": {
        "id": "9PBtY0rCH7_E",
        "colab_type": "code",
        "outputId": "c6af112a-314e-48a5-bc55-5c4a07bda198",
        "colab": {
          "base_uri": "https://localhost:8080/",
          "height": 269
        }
      },
      "source": [
        "# 그래프로 확인\n",
        "plt.plot(gold.index[1608:], y_test, c='r')\n",
        "plt.plot(gold.index[1608:], pred, c='b')\n",
        "plt.legend()\n",
        "plt.show()"
      ],
      "execution_count": 35,
      "outputs": [
        {
          "output_type": "display_data",
          "data": {
            "image/png": "[encoded data removed]",
            "text/plain": [
              "<Figure size 432x288 with 1 Axes>"
            ]
          },
          "metadata": {
            "tags": []
          }
        }
      ]
    },
    {
      "cell_type": "markdown",
      "metadata": {
        "id": "dOnL2Q1uxt85",
        "colab_type": "text"
      },
      "source": [
        "# Test2 \n",
        "### control: n_estimators "
      ]
    },
    {
      "cell_type": "code",
      "metadata": {
        "id": "FMcC5pyQf9UC",
        "colab_type": "code",
        "outputId": "368d1eb1-4d27-415b-db5e-ff1ee7e1b08f",
        "colab": {
          "base_uri": "https://localhost:8080/",
          "height": 345
        }
      },
      "source": [
        "rm = RandomForestRegressor(criterion='mse', random_state=0, n_jobs=-1)\n",
        "params = {'n_estimators': [500,1000]}\n",
        "\n",
        "rm_cv = GridSearchCV(rm, params, return_train_score=True, error_score='raise')\n",
        "rm_cv.fit(X_train, y_train)"
      ],
      "execution_count": 36,
      "outputs": [
        {
          "output_type": "stream",
          "text": [
            "/usr/local/lib/python3.6/dist-packages/sklearn/model_selection/_split.py:1978: FutureWarning: The default value of cv will change from 3 to 5 in version 0.22. Specify it explicitly to silence this warning.\n",
            "  warnings.warn(CV_WARNING, FutureWarning)\n"
          ],
          "name": "stderr"
        },
        {
          "output_type": "execute_result",
          "data": {
            "text/plain": [
              "GridSearchCV(cv='warn', error_score='raise',\n",
              "             estimator=RandomForestRegressor(bootstrap=True, criterion='mse',\n",
              "                                             max_depth=None,\n",
              "                                             max_features='auto',\n",
              "                                             max_leaf_nodes=None,\n",
              "                                             min_impurity_decrease=0.0,\n",
              "                                             min_impurity_split=None,\n",
              "                                             min_samples_leaf=1,\n",
              "                                             min_samples_split=2,\n",
              "                                             min_weight_fraction_leaf=0.0,\n",
              "                                             n_estimators='warn', n_jobs=-1,\n",
              "                                             oob_score=False, random_state=0,\n",
              "                                             verbose=0, warm_start=False),\n",
              "             iid='warn', n_jobs=None, param_grid={'n_estimators': [500, 1000]},\n",
              "             pre_dispatch='2*n_jobs', refit=True, return_train_score=True,\n",
              "             scoring=None, verbose=0)"
            ]
          },
          "metadata": {
            "tags": []
          },
          "execution_count": 36
        }
      ]
    },
    {
      "cell_type": "code",
      "metadata": {
        "id": "bklXz1QZxhq8",
        "colab_type": "code",
        "outputId": "76a1f54f-b856-4767-c448-ce1ecfd328a8",
        "colab": {
          "base_uri": "https://localhost:8080/",
          "height": 35
        }
      },
      "source": [
        "# best 파라미터\n",
        "rm_cv.best_params_"
      ],
      "execution_count": 37,
      "outputs": [
        {
          "output_type": "execute_result",
          "data": {
            "text/plain": [
              "{'n_estimators': 500}"
            ]
          },
          "metadata": {
            "tags": []
          },
          "execution_count": 37
        }
      ]
    },
    {
      "cell_type": "code",
      "metadata": {
        "id": "gtXYFzCFxhtU",
        "colab_type": "code",
        "outputId": "71a50e05-0ecb-464b-b48c-786c95738c06",
        "colab": {
          "base_uri": "https://localhost:8080/",
          "height": 145
        }
      },
      "source": [
        "# best 파라미터로 모델 fit\n",
        "rm_best = RandomForestRegressor(**rm_cv.best_params_)\n",
        "rm_best.fit(X_train, y_train)"
      ],
      "execution_count": 38,
      "outputs": [
        {
          "output_type": "execute_result",
          "data": {
            "text/plain": [
              "RandomForestRegressor(bootstrap=True, criterion='mse', max_depth=None,\n",
              "                      max_features='auto', max_leaf_nodes=None,\n",
              "                      min_impurity_decrease=0.0, min_impurity_split=None,\n",
              "                      min_samples_leaf=1, min_samples_split=2,\n",
              "                      min_weight_fraction_leaf=0.0, n_estimators=500,\n",
              "                      n_jobs=None, oob_score=False, random_state=None,\n",
              "                      verbose=0, warm_start=False)"
            ]
          },
          "metadata": {
            "tags": []
          },
          "execution_count": 38
        }
      ]
    },
    {
      "cell_type": "code",
      "metadata": {
        "id": "kW4Uug8CR7QZ",
        "colab_type": "code",
        "colab": {}
      },
      "source": [
        "# train data 확인\n",
        "train_pred = rm_best.predict(X_train)"
      ],
      "execution_count": 0,
      "outputs": []
    },
    {
      "cell_type": "code",
      "metadata": {
        "id": "PF7siPvFRnqs",
        "colab_type": "code",
        "outputId": "2bace601-08c3-4f7d-9f8d-29b4e964d8b3",
        "colab": {
          "base_uri": "https://localhost:8080/",
          "height": 269
        }
      },
      "source": [
        "# 그래프로 확인\n",
        "plt.plot(gold.index[:1608], y_train, c='r')\n",
        "plt.plot(gold.index[:1608], train_pred, c='b')\n",
        "plt.legend()\n",
        "plt.show()"
      ],
      "execution_count": 49,
      "outputs": [
        {
          "output_type": "display_data",
          "data": {
            "image/png": "[encoded data removed]",
            "text/plain": [
              "<Figure size 432x288 with 1 Axes>"
            ]
          },
          "metadata": {
            "tags": []
          }
        }
      ]
    },
    {
      "cell_type": "code",
      "metadata": {
        "id": "kn1OeAkVxhv1",
        "colab_type": "code",
        "colab": {}
      },
      "source": [
        "# 모델 예측\n",
        "test_pred = rm_best.predict(X_test)"
      ],
      "execution_count": 0,
      "outputs": []
    },
    {
      "cell_type": "code",
      "metadata": {
        "id": "nKgfM8Uqxj-6",
        "colab_type": "code",
        "colab": {
          "base_uri": "https://localhost:8080/",
          "height": 54
        },
        "outputId": "a161a812-0216-4437-be7b-a57c34be9f2a"
      },
      "source": [
        "# rmse\n",
        "rmse = mean_squared_error(y_test, test_pred)**0.5\n",
        "print('rmse: {:.3f}'.format(rmse))\n",
        "\n",
        "# mae\n",
        "mae = mean_absolute_error(y_test, test_pred)\n",
        "print('mae: {:.3f}'.format(mae))"
      ],
      "execution_count": 51,
      "outputs": [
        {
          "output_type": "stream",
          "text": [
            "rmse: 54.917\n",
            "mae: 45.603\n"
          ],
          "name": "stdout"
        }
      ]
    },
    {
      "cell_type": "code",
      "metadata": {
        "id": "dz-EdT_axh1c",
        "colab_type": "code",
        "outputId": "d94ce0e0-76d4-43c3-ad6c-c1ea74adcb84",
        "colab": {
          "base_uri": "https://localhost:8080/",
          "height": 269
        }
      },
      "source": [
        "# 그래프로 확인\n",
        "plt.plot(gold.index[1608:], y_test, c='r')\n",
        "plt.plot(gold.index[1608:], test_pred, c='b')\n",
        "plt.legend()\n",
        "plt.show()"
      ],
      "execution_count": 52,
      "outputs": [
        {
          "output_type": "display_data",
          "data": {
            "image/png": "[encoded data removed]",
            "text/plain": [
              "<Figure size 432x288 with 1 Axes>"
            ]
          },
          "metadata": {
            "tags": []
          }
        }
      ]
    },
    {
      "cell_type": "code",
      "metadata": {
        "id": "a6ORxrRfxh7C",
        "colab_type": "code",
        "outputId": "09ed768a-695d-44dc-9878-3f4ea403e296",
        "colab": {
          "base_uri": "https://localhost:8080/",
          "height": 284
        }
      },
      "source": [
        "# 잔차 확인\n",
        "plt.scatter(pred, pred-y_test, c='blue', marker='o')\n",
        "plt.xlabel('prediction')\n",
        "plt.ylabel('residual')\n",
        "plt.hlines(y=0, xmin=900, xmax=1500, lw=2, color='red')\n",
        "plt.xlim([1200, 1300])\n",
        "plt.show()"
      ],
      "execution_count": 53,
      "outputs": [
        {
          "output_type": "display_data",
          "data": {
            "image/png": "[encoded data removed]",
            "text/plain": [
              "<Figure size 432x288 with 1 Axes>"
            ]
          },
          "metadata": {
            "tags": []
          }
        }
      ]
    },
    {
      "cell_type": "code",
      "metadata": {
        "id": "Zv6eS4HfErsF",
        "colab_type": "code",
        "colab": {}
      },
      "source": [
        ""
      ],
      "execution_count": 0,
      "outputs": []
    }
  ]
}