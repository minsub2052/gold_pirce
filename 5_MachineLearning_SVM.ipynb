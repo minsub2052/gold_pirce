{
  "nbformat": 4,
  "nbformat_minor": 0,
  "metadata": {
    "colab": {
      "name": "5_MachineLearning_SVM.ipynb",
      "version": "0.3.2",
      "provenance": [],
      "collapsed_sections": []
    },
    "kernelspec": {
      "name": "python3",
      "display_name": "Python 3"
    }
  },
  "cells": [
    {
      "cell_type": "markdown",
      "metadata": {
        "id": "1bfG_wfcAUy4",
        "colab_type": "text"
      },
      "source": [
        "# 머신러닝 서포트벡터머신 - SVR"
      ]
    },
    {
      "cell_type": "code",
      "metadata": {
        "id": "_wjwxeH7_GLm",
        "colab_type": "code",
        "colab": {}
      },
      "source": [
        "import os\n",
        "import pandas as pd\n",
        "import numpy as np\n",
        "import matplotlib.pyplot as plt\n",
        "import pickle"
      ],
      "execution_count": 0,
      "outputs": []
    },
    {
      "cell_type": "code",
      "metadata": {
        "id": "05FXM8zY_8bx",
        "colab_type": "code",
        "colab": {}
      },
      "source": [
        "from sklearn.svm import SVR\n",
        "from sklearn.preprocessing import MinMaxScaler\n",
        "from sklearn.preprocessing import StandardScaler\n",
        "from sklearn.model_selection import train_test_split\n",
        "from sklearn.model_selection import GridSearchCV\n",
        "from sklearn.metrics import r2_score\n",
        "from sklearn.metrics import mean_squared_error\n",
        "from sklearn.metrics import mean_absolute_error"
      ],
      "execution_count": 0,
      "outputs": []
    },
    {
      "cell_type": "code",
      "metadata": {
        "id": "fEG1hQKt_8Gf",
        "colab_type": "code",
        "outputId": "dc13046d-12c6-409b-8b34-9292b4964e0b",
        "colab": {
          "base_uri": "https://localhost:8080/",
          "height": 125
        }
      },
      "source": [
        "from google.colab import drive\n",
        "drive.mount('/content/drive')"
      ],
      "execution_count": 0,
      "outputs": [
        {
          "output_type": "stream",
          "text": [
            "Go to this URL in a browser: https://accounts.google.com/o/oauth2/auth?client_id=947318989803-6bn6qk8qdgf4n4g3pfee6491hc0brc4i.apps.googleusercontent.com&redirect_uri=urn%3Aietf%3Awg%3Aoauth%3A2.0%3Aoob&scope=email%20https%3A%2F%2Fwww.googleapis.com%2Fauth%2Fdocs.test%20https%3A%2F%2Fwww.googleapis.com%2Fauth%2Fdrive%20https%3A%2F%2Fwww.googleapis.com%2Fauth%2Fdrive.photos.readonly%20https%3A%2F%2Fwww.googleapis.com%2Fauth%2Fpeopleapi.readonly&response_type=code\n",
            "\n",
            "Enter your authorization code:\n",
            "··········\n",
            "Mounted at /content/drive\n"
          ],
          "name": "stdout"
        }
      ]
    },
    {
      "cell_type": "code",
      "metadata": {
        "id": "DX3HTpVj_8LK",
        "colab_type": "code",
        "colab": {}
      },
      "source": [
        "os.chdir('/content/drive/My Drive/gold/data')"
      ],
      "execution_count": 0,
      "outputs": []
    },
    {
      "cell_type": "code",
      "metadata": {
        "id": "AanyRGo7_8N0",
        "colab_type": "code",
        "colab": {}
      },
      "source": [
        "# 데이터 불러오기\n",
        "gold = pickle.load(open('gold_price.pkl','rb'))"
      ],
      "execution_count": 0,
      "outputs": []
    },
    {
      "cell_type": "code",
      "metadata": {
        "id": "XR-qqVSucP4g",
        "colab_type": "code",
        "outputId": "2c98ebdf-2d47-49cc-b3e3-6fba1cc3986b",
        "colab": {
          "base_uri": "https://localhost:8080/",
          "height": 105
        }
      },
      "source": [
        "# colums 확인\n",
        "gold.keys()"
      ],
      "execution_count": 0,
      "outputs": [
        {
          "output_type": "execute_result",
          "data": {
            "text/plain": [
              "Index(['USD/T.oz', 'index_price', 'index_volume', 'index_change', 'cny/krw',\n",
              "       'usd/krw', '100jpy/krw', 'eur/krw', 'gbp/krw', 'nasdaq_volume',\n",
              "       'kospi_volume', 'dow_volume', 'snp500_volume', 'WTI_barrel', 'nasdaq',\n",
              "       'kospi', 'dow', 'snp500'],\n",
              "      dtype='object')"
            ]
          },
          "metadata": {
            "tags": []
          },
          "execution_count": 6
        }
      ]
    },
    {
      "cell_type": "code",
      "metadata": {
        "id": "SgisjF8D_8TI",
        "colab_type": "code",
        "colab": {}
      },
      "source": [
        "# 사용할 데이터 추출\n",
        "feature = gold.loc[:, ['index_price', 'cny/krw', 'usd/krw', '100jpy/krw', 'eur/krw', 'gbp/krw', 'nasdaq', 'kospi', 'dow', 'snp500']]"
      ],
      "execution_count": 0,
      "outputs": []
    },
    {
      "cell_type": "code",
      "metadata": {
        "id": "3I00-TVh_8Yr",
        "colab_type": "code",
        "colab": {}
      },
      "source": [
        "# scale\n",
        "scaler = StandardScaler()\n",
        "scaler.fit(feature)\n",
        "X_scaled = scaler.transform(feature)\n",
        "X_scaled = pd.DataFrame(X_scaled)"
      ],
      "execution_count": 0,
      "outputs": []
    },
    {
      "cell_type": "code",
      "metadata": {
        "id": "KXCT1yImDClD",
        "colab_type": "code",
        "outputId": "ffaa96be-5613-4dc7-d72e-507891683485",
        "colab": {
          "base_uri": "https://localhost:8080/",
          "height": 34
        }
      },
      "source": [
        "# 데이터 분할\n",
        "X_train, X_test, y_train, y_test = train_test_split(X_scaled, gold['USD/T.oz'], shuffle=False, test_size=0.3)\n",
        "X_train.shape, X_test.shape, y_train.shape, y_test.shape"
      ],
      "execution_count": 0,
      "outputs": [
        {
          "output_type": "execute_result",
          "data": {
            "text/plain": [
              "((1608, 10), (690, 10), (1608,), (690,))"
            ]
          },
          "metadata": {
            "tags": []
          },
          "execution_count": 11
        }
      ]
    },
    {
      "cell_type": "markdown",
      "metadata": {
        "id": "DYd-BpxP1ib8",
        "colab_type": "text"
      },
      "source": [
        "# gridsearch\n",
        "kernel='rbf'"
      ]
    },
    {
      "cell_type": "code",
      "metadata": {
        "id": "j1ZdPioE_8sH",
        "colab_type": "code",
        "colab": {}
      },
      "source": [
        "# 모델 정의\n",
        "svr = SVR(kernel='rbf')\n",
        "param_grid = {'C': [0.01, 0.1, 1, 10, 100],\n",
        "              'gamma': [0.01, 0.1, 1, 10, 100],\n",
        "              'epsilon': [0.001, 0.01, 0.1, 1, 10, 100]}"
      ],
      "execution_count": 0,
      "outputs": []
    },
    {
      "cell_type": "code",
      "metadata": {
        "id": "4ehVJYEu_8vK",
        "colab_type": "code",
        "outputId": "8bad0914-989f-48aa-f32e-633856ad34d8",
        "colab": {
          "base_uri": "https://localhost:8080/",
          "height": 125
        }
      },
      "source": [
        "svr_cv = GridSearchCV(svr, param_grid, cv=5)\n",
        "svr_cv.fit(X_train, y_train)\n",
        "print(\"최상의 교차 검증 정확도: {:.2f}\".format(svr_cv.best_score_))\n",
        "print(\"test set score: {:.2f}\".format(svr_cv.score(X_test, y_test)))\n",
        "print(\"최적의 매개변수:\", svr_cv.best_params_)"
      ],
      "execution_count": 0,
      "outputs": [
        {
          "output_type": "stream",
          "text": [
            "/usr/local/lib/python3.6/dist-packages/sklearn/model_selection/_search.py:814: DeprecationWarning: The default of the `iid` parameter will change from True to False in version 0.22 and will be removed in 0.24. This will change numeric results when test-set sizes are unequal.\n",
            "  DeprecationWarning)\n"
          ],
          "name": "stderr"
        },
        {
          "output_type": "stream",
          "text": [
            "최상의 교차 검증 정확도: -1.73\n",
            "test set score: 0.44\n",
            "최적의 매개변수: {'C': 100, 'epsilon': 10, 'gamma': 0.01}\n"
          ],
          "name": "stdout"
        }
      ]
    },
    {
      "cell_type": "code",
      "metadata": {
        "id": "lV6K8cpv_8_u",
        "colab_type": "code",
        "outputId": "82a6532c-a907-4ed3-bcf1-668d3d8940f2",
        "colab": {
          "base_uri": "https://localhost:8080/",
          "height": 52
        }
      },
      "source": [
        "# 모델 fit\n",
        "svr_best = SVR(**svr_cv.best_params_)\n",
        "svr_best.fit(X_train,y_train)"
      ],
      "execution_count": 0,
      "outputs": [
        {
          "output_type": "execute_result",
          "data": {
            "text/plain": [
              "SVR(C=100, cache_size=200, coef0=0.0, degree=3, epsilon=10, gamma=0.01,\n",
              "    kernel='rbf', max_iter=-1, shrinking=True, tol=0.001, verbose=False)"
            ]
          },
          "metadata": {
            "tags": []
          },
          "execution_count": 14
        }
      ]
    },
    {
      "cell_type": "code",
      "metadata": {
        "id": "1umTtHU1d6hP",
        "colab_type": "code",
        "colab": {}
      },
      "source": [
        "# train data 확인\n",
        "train_pred = svr_best.predict(X_train)"
      ],
      "execution_count": 0,
      "outputs": []
    },
    {
      "cell_type": "code",
      "metadata": {
        "id": "UR5CQw5Cd6nc",
        "colab_type": "code",
        "outputId": "fd0686c1-5405-4cce-8d58-0b0d88b52a8c",
        "colab": {
          "base_uri": "https://localhost:8080/",
          "height": 394
        }
      },
      "source": [
        "# 그래프로 확인\n",
        "plt.plot(gold.index[:1608], y_train, c='r')\n",
        "plt.plot(gold.index[:1608], train_pred, c='b')\n",
        "plt.legend()\n",
        "plt.show()"
      ],
      "execution_count": 0,
      "outputs": [
        {
          "output_type": "stream",
          "text": [
            "/usr/local/lib/python3.6/dist-packages/pandas/plotting/_converter.py:129: FutureWarning: Using an implicitly registered datetime converter for a matplotlib plotting method. The converter was registered by pandas on import. Future versions of pandas will require you to explicitly register matplotlib converters.\n",
            "\n",
            "To register the converters:\n",
            "\t>>> from pandas.plotting import register_matplotlib_converters\n",
            "\t>>> register_matplotlib_converters()\n",
            "  warnings.warn(msg, FutureWarning)\n"
          ],
          "name": "stderr"
        },
        {
          "output_type": "display_data",
          "data": {
            "image/png": "[encoded data removed]",
            "text/plain": [
              "<Figure size 432x288 with 1 Axes>"
            ]
          },
          "metadata": {
            "tags": []
          }
        }
      ]
    },
    {
      "cell_type": "code",
      "metadata": {
        "id": "638c-cfT_8-L",
        "colab_type": "code",
        "colab": {}
      },
      "source": [
        "# 모델 예측\n",
        "pred = svr_best.predict(X_test)"
      ],
      "execution_count": 0,
      "outputs": []
    },
    {
      "cell_type": "code",
      "metadata": {
        "id": "anIfRNSB1U0T",
        "colab_type": "code",
        "outputId": "6712dc88-72be-4acf-e749-5eca6312a3e8",
        "colab": {
          "base_uri": "https://localhost:8080/",
          "height": 269
        }
      },
      "source": [
        "plt.plot(gold.index[1608:], y_test, c='r')\n",
        "plt.plot(gold.index[1608:], pred, c='b')\n",
        "plt.legend()\n",
        "plt.show()"
      ],
      "execution_count": 0,
      "outputs": [
        {
          "output_type": "display_data",
          "data": {
            "image/png": "[encoded data removed]",
            "text/plain": [
              "<Figure size 432x288 with 1 Axes>"
            ]
          },
          "metadata": {
            "tags": []
          }
        }
      ]
    },
    {
      "cell_type": "code",
      "metadata": {
        "id": "wUIR_UfHeTSU",
        "colab_type": "code",
        "outputId": "47c469c4-a9fc-42bc-a0a4-e1fa68dd94d3",
        "colab": {
          "base_uri": "https://localhost:8080/",
          "height": 70
        }
      },
      "source": [
        "# r2\n",
        "r2 = r2_score(y_test, pred)\n",
        "print('r2: {:.3f}'.format(r2))\n",
        "# rmse\n",
        "rmse = mean_squared_error(y_test, pred)**0.5\n",
        "print('rmse: {:.3f}'.format(rmse))\n",
        "# mae\n",
        "mae = mean_absolute_error(y_test, pred)\n",
        "print('mae: {:.3f}'.format(mae))"
      ],
      "execution_count": 0,
      "outputs": [
        {
          "output_type": "stream",
          "text": [
            "r2: 0.445\n",
            "rmse: 41.083\n",
            "mae: 29.692\n"
          ],
          "name": "stdout"
        }
      ]
    },
    {
      "cell_type": "code",
      "metadata": {
        "id": "NKYsnfGA1U2q",
        "colab_type": "code",
        "outputId": "50d474b7-c180-4e6d-d811-b797933ca97c",
        "colab": {
          "base_uri": "https://localhost:8080/",
          "height": 283
        }
      },
      "source": [
        "# 잔차 확인\n",
        "plt.scatter(pred, pred-y_test, c='blue', marker='o')\n",
        "plt.xlabel('prediction')\n",
        "plt.ylabel('residual')\n",
        "plt.hlines(y=0, xmin=900, xmax=1500, lw=2, color='red')\n",
        "plt.xlim([1180, 1300])\n",
        "plt.show()"
      ],
      "execution_count": 0,
      "outputs": [
        {
          "output_type": "display_data",
          "data": {
            "image/png": "[encoded data removed]",
            "text/plain": [
              "<Figure size 432x288 with 1 Axes>"
            ]
          },
          "metadata": {
            "tags": []
          }
        }
      ]
    }
  ]
}