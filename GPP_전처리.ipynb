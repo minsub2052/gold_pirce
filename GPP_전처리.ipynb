{
  "nbformat": 4,
  "nbformat_minor": 0,
  "metadata": {
    "colab": {
      "name": "GPP_전처리.ipynb",
      "version": "0.3.2",
      "provenance": [],
      "collapsed_sections": []
    },
    "kernelspec": {
      "name": "python3",
      "display_name": "Python 3"
    }
  },
  "cells": [
    {
      "cell_type": "code",
      "metadata": {
        "id": "SM6qKpE74UAB",
        "colab_type": "code",
        "outputId": "698f267b-a5ac-4224-a41a-7b8cc893f78f",
        "colab": {
          "base_uri": "https://localhost:8080/",
          "height": 36
        }
      },
      "source": [
        "# 구글 드라이브 연동 \n",
        "\n",
        "from google.colab import drive\n",
        "drive.mount('/content/drive/')"
      ],
      "execution_count": 0,
      "outputs": [
        {
          "output_type": "stream",
          "text": [
            "Drive already mounted at /content/drive/; to attempt to forcibly remount, call drive.mount(\"/content/drive/\", force_remount=True).\n"
          ],
          "name": "stdout"
        }
      ]
    },
    {
      "cell_type": "code",
      "metadata": {
        "id": "AsRViIPu4cvB",
        "colab_type": "code",
        "colab": {}
      },
      "source": [
        "import os\n",
        "import pandas as pd\n",
        "import numpy as np\n",
        "import matplotlib.pylab as plt\n",
        "import pickle"
      ],
      "execution_count": 0,
      "outputs": []
    },
    {
      "cell_type": "code",
      "metadata": {
        "id": "SkMlGA5o6Z6a",
        "colab_type": "code",
        "colab": {}
      },
      "source": [
        "os.chdir('/content/drive/My Drive/data/제목없는 폴더')"
      ],
      "execution_count": 0,
      "outputs": []
    },
    {
      "cell_type": "code",
      "metadata": {
        "id": "k7IYlZOc6lJ_",
        "colab_type": "code",
        "outputId": "dd1cc2d6-b564-4552-9aba-063cf532888f",
        "colab": {
          "base_uri": "https://localhost:8080/",
          "height": 484
        }
      },
      "source": [
        "os.listdir('/content/drive/My Drive/data/제목없는 폴더') "
      ],
      "execution_count": 0,
      "outputs": [
        {
          "output_type": "execute_result",
          "data": {
            "text/plain": [
              "['gold.csv',\n",
              " '위안화 환율.csv',\n",
              " '유로화 환율.csv',\n",
              " '달러 환율.csv',\n",
              " '파운드화 환율.csv',\n",
              " '엔화 환율.csv',\n",
              " '금보유량.csv',\n",
              " '금수요량.csv',\n",
              " '달러인덱스.csv',\n",
              " 'bank.csv',\n",
              " 'POILBREUSDM.csv',\n",
              " '텍사스유(WTI).csv',\n",
              " '나스닥.csv',\n",
              " '코스피.csv',\n",
              " '다우지수.csv',\n",
              " 'snp500.csv',\n",
              " 'gold_price.csv',\n",
              " 'gold1019_report.html',\n",
              " 'total.csv',\n",
              " 'total_gold.csv',\n",
              " 'total_gold.pkl',\n",
              " 'total_gold_report.html',\n",
              " 'total_gold_report2.html',\n",
              " 'pre_gold_price.pkl',\n",
              " 'gold00000_report.html']"
            ]
          },
          "metadata": {
            "tags": []
          },
          "execution_count": 4
        }
      ]
    },
    {
      "cell_type": "code",
      "metadata": {
        "colab_type": "code",
        "id": "Ru4hvdkgwjmf",
        "colab": {}
      },
      "source": [
        "file_name= [\n",
        " '금수요량.csv',\n",
        " '달러인덱스.csv',\n",
        " '위안화 환율.csv',\n",
        " '달러 환율.csv',\n",
        " '엔화 환율.csv',\n",
        " '유로화 환율.csv',\n",
        " '파운드화 환율.csv',\n",
        " '금보유량.csv',\n",
        " 'POILBREUSDM.csv',\n",
        " '나스닥.csv',\n",
        " '코스피.csv',\n",
        " '다우지수.csv',\n",
        " 'snp500.csv',\n",
        " '텍사스유(WTI).csv','gold_price.csv']"
      ],
      "execution_count": 0,
      "outputs": []
    },
    {
      "cell_type": "code",
      "metadata": {
        "colab_type": "code",
        "outputId": "5c46cea8-7997-4e6e-a1da-2dc3e217344a",
        "id": "t1tyWca4wjhl",
        "colab": {
          "base_uri": "https://localhost:8080/",
          "height": 35
        }
      },
      "source": [
        "len(file_name)"
      ],
      "execution_count": 0,
      "outputs": [
        {
          "output_type": "execute_result",
          "data": {
            "text/plain": [
              "15"
            ]
          },
          "metadata": {
            "tags": []
          },
          "execution_count": 36
        }
      ]
    },
    {
      "cell_type": "code",
      "metadata": {
        "id": "m3zYd7vg82L4",
        "colab_type": "code",
        "colab": {}
      },
      "source": [
        "name = [\n",
        " '금수요량.csv',\n",
        " '달러인덱스.csv',\n",
        " '위안화 환율.csv',\n",
        " '달러 환율.csv',\n",
        " '엔화 환율.csv',\n",
        " '유로화 환율.csv',\n",
        " '파운드화 환율.csv',\n",
        " '금보유량.csv',\n",
        " 'POILBREUSDM.csv',\n",
        " '나스닥.csv',\n",
        " '코스피.csv',\n",
        " '다우지수.csv',\n",
        " 'snp500.csv',\n",
        " '텍사스유(WTI).csv','gold_price.csv'\n",
        " ]"
      ],
      "execution_count": 0,
      "outputs": []
    },
    {
      "cell_type": "code",
      "metadata": {
        "id": "wyWCkS9R9I4f",
        "colab_type": "code",
        "outputId": "2421a477-345a-47ff-f705-8e325487c256",
        "colab": {
          "base_uri": "https://localhost:8080/",
          "height": 35
        }
      },
      "source": [
        "name[6]"
      ],
      "execution_count": 0,
      "outputs": [
        {
          "output_type": "execute_result",
          "data": {
            "text/plain": [
              "'파운드화 환율.csv'"
            ]
          },
          "metadata": {
            "tags": []
          },
          "execution_count": 20
        }
      ]
    },
    {
      "cell_type": "code",
      "metadata": {
        "id": "n44WL-It8OU3",
        "colab_type": "code",
        "outputId": "6b212f2e-29d6-4161-9bbc-0823e22ef5f6",
        "colab": {
          "base_uri": "https://localhost:8080/",
          "height": 287
        }
      },
      "source": [
        "# csv 파일 이름을 숫자로 변경\n",
        "\n",
        "for i in range(len(file_name)):\n",
        "  print(i)\n",
        "  name[i] = pd.read_csv('%s'% file_name[i])"
      ],
      "execution_count": 0,
      "outputs": [
        {
          "output_type": "stream",
          "text": [
            "0\n",
            "1\n",
            "2\n",
            "3\n",
            "4\n",
            "5\n",
            "6\n",
            "7\n",
            "8\n",
            "9\n",
            "10\n",
            "11\n",
            "12\n",
            "13\n",
            "14\n"
          ],
          "name": "stdout"
        }
      ]
    },
    {
      "cell_type": "code",
      "metadata": {
        "id": "ALY0T8ftALMF",
        "colab_type": "code",
        "outputId": "b6a43e8d-3605-4430-8083-0570eb7aff87",
        "colab": {
          "base_uri": "https://localhost:8080/",
          "height": 557
        }
      },
      "source": [
        "# 각 파일의 컬럼명 확인  \n",
        "\n",
        "for i in range(0,15):\n",
        "  print(i,file_name[i])\n",
        "  print(name[i].columns)"
      ],
      "execution_count": 0,
      "outputs": [
        {
          "output_type": "stream",
          "text": [
            "0 금수요량.csv\n",
            "Index(['Date', 'gold_demand'], dtype='object')\n",
            "1 달러인덱스.csv\n",
            "Index(['Date', 'index_price', 'index_volume', 'index_change'], dtype='object')\n",
            "2 위안화 환율.csv\n",
            "Index(['Date', 'cny/krw'], dtype='object')\n",
            "3 달러 환율.csv\n",
            "Index(['Date', 'usd/krw'], dtype='object')\n",
            "4 엔화 환율.csv\n",
            "Index(['Date', '100jpy/krw'], dtype='object')\n",
            "5 유로화 환율.csv\n",
            "Index(['Date', 'eur/krw'], dtype='object')\n",
            "6 파운드화 환율.csv\n",
            "Index(['Date', 'gbp/krw'], dtype='object')\n",
            "7 금보유량.csv\n",
            "Index(['Date', 'gold_reserves'], dtype='object')\n",
            "8 POILBREUSDM.csv\n",
            "Index(['Date', 'brandt_barrel'], dtype='object')\n",
            "9 나스닥.csv\n",
            "Index(['Date', 'Open', 'High', 'Low', 'Close', 'Adj Close', 'Volume'], dtype='object')\n",
            "10 코스피.csv\n",
            "Index(['Date', 'Open', 'High', 'Low', 'Close', 'Adj Close', 'Volume'], dtype='object')\n",
            "11 다우지수.csv\n",
            "Index(['Date', 'Open', 'High', 'Low', 'Close', 'Adj Close', 'Volume'], dtype='object')\n",
            "12 snp500.csv\n",
            "Index(['Date', 'Open', 'High', 'Low', 'Close', 'Adj Close', 'Volume'], dtype='object')\n",
            "13 텍사스유(WTI).csv\n",
            "Index(['Date', 'WTI_barrel'], dtype='object')\n",
            "14 gold_price.csv\n",
            "Index(['일자', '국제가격 (USD/T.oz)', '환율 (￦/USD)'], dtype='object')\n"
          ],
          "name": "stdout"
        }
      ]
    },
    {
      "cell_type": "code",
      "metadata": {
        "id": "G81uPDA9k0uZ",
        "colab_type": "code",
        "colab": {}
      },
      "source": [
        "# gold_price의 필요없는 컬럼 제거 \n",
        "name[14]=name[14].drop('Unnamed: 0',axis=1)"
      ],
      "execution_count": 0,
      "outputs": []
    },
    {
      "cell_type": "code",
      "metadata": {
        "id": "VXTxGeqglWUY",
        "colab_type": "code",
        "colab": {}
      },
      "source": [
        "# 달러 환율의 'usd/krw'와 중복되어 제거\n",
        "\n",
        "name[14]=name[14].drop('환율 (￦/USD)',axis=1)"
      ],
      "execution_count": 0,
      "outputs": []
    },
    {
      "cell_type": "markdown",
      "metadata": {
        "id": "WRpg5Wjagxsq",
        "colab_type": "text"
      },
      "source": [
        "# 컬럼명 바꾸기\n",
        "\n"
      ]
    },
    {
      "cell_type": "code",
      "metadata": {
        "id": "OvkCFDyigxRa",
        "colab_type": "code",
        "colab": {}
      },
      "source": [
        "# 날짜 컬럼명을 'Date'로 통일 \n",
        "\n",
        "name[8] = name[8].rename(columns = {'DATE':'Date', 'POILBREUSDM':'brandt_barrel'})\n",
        "name[13] = name[13].rename(columns= {'DATE':'Date', 'DCOILWTICO':'WTI_barrel'})\n",
        "name[14] = name[14].rename(columns = {'일자':'Date', '국제가격 (USD/T.oz)':'USD/T.oz'})"
      ],
      "execution_count": 0,
      "outputs": []
    },
    {
      "cell_type": "code",
      "metadata": {
        "id": "zVxzlAWViWEX",
        "colab_type": "code",
        "colab": {}
      },
      "source": [
        "# 각 파일의 중복되는 컬럼명을 합쳤을때 알아볼수 있게 변경 \n",
        "\n",
        "name[9] = name[9].rename(columns= {'Open':'nasdaq_open', 'High':'nasdaq_high', 'Low':'nasdaq_low', 'Close':'nasdaq_close', 'Adj Close':'nasdaq_adj', 'Volume':'nasdaq_volume'})\n",
        "name[10] = name[10].rename(columns= {'Open':'kospi_open', 'High':'kospi_high', 'Low':'kospi_low', 'Close':'kospi_close', 'Adj Close':'kospi_adj', 'Volume':'kospi_volume'})\n",
        "name[11] = name[11].rename(columns= {'Open':'dow_open', 'High':'dow_high', 'Low':'dow_low', 'Close':'dow_close', 'Adj Close':'dow_adj', 'Volume':'dow_volume'})\n",
        "name[12] = name[12].rename(columns= {'Open':'snp500_open', 'High':'snp500_high', 'Low':'snp500_low', 'Close':'snp500_close', 'Adj Close':'snp500_adj', 'Volume':'snp500_volume'})"
      ],
      "execution_count": 0,
      "outputs": []
    },
    {
      "cell_type": "code",
      "metadata": {
        "id": "p5Q8_cEbzz0M",
        "colab_type": "code",
        "colab": {}
      },
      "source": [
        "# 변경된 파일들을 다시 csv파일로 저장\n",
        "\n",
        "#name[8].to_csv('POILBREUSDM.csv',index=False)\n",
        "#name[13].to_csv('텍사스유(WTI).csv',index=False)\n",
        "#name[14].to_csv('gold_price.csv.csv',index=False)\n",
        "\n",
        "#name[9].to_csv('나스닥.csv',index=False)\n",
        "#name[10].to_csv('코스피.csv',index=False)\n",
        "#name[11].to_csv('다우지수.csv',index=False)\n",
        "#name[12].to_csv('snp500.csv',index=False)"
      ],
      "execution_count": 0,
      "outputs": []
    },
    {
      "cell_type": "code",
      "metadata": {
        "id": "hsIG6QTXiWB9",
        "colab_type": "code",
        "outputId": "eebf0926-e4ed-415d-dea6-e1eb4e5e9aba",
        "colab": {
          "base_uri": "https://localhost:8080/",
          "height": 701
        }
      },
      "source": [
        "for i in range(0,15):\n",
        "  print(i,file_name[i])\n",
        "  print(name[i].columns)"
      ],
      "execution_count": 0,
      "outputs": [
        {
          "output_type": "stream",
          "text": [
            "0 금수요량.csv\n",
            "Index(['Date', 'gold_demand'], dtype='object')\n",
            "1 달러인덱스.csv\n",
            "Index(['Date', 'index_price', 'index_volume', 'index_change'], dtype='object')\n",
            "2 위안화 환율.csv\n",
            "Index(['Date', 'cny/krw'], dtype='object')\n",
            "3 달러 환율.csv\n",
            "Index(['Date', 'usd/krw'], dtype='object')\n",
            "4 엔화 환율.csv\n",
            "Index(['Date', '100jpy/krw'], dtype='object')\n",
            "5 유로화 환율.csv\n",
            "Index(['Date', 'eur/krw'], dtype='object')\n",
            "6 파운드화 환율.csv\n",
            "Index(['Date', 'gbp/krw'], dtype='object')\n",
            "7 금보유량.csv\n",
            "Index(['Date', 'gold_reserves'], dtype='object')\n",
            "8 POILBREUSDM.csv\n",
            "Index(['Date', 'brandt_barrel'], dtype='object')\n",
            "9 나스닥.csv\n",
            "Index(['Date', 'nasdaq_open', 'nasdaq_high', 'nasdaq_low', 'nasdaq_close',\n",
            "       'nasdaq_adj', 'nasdaq_volume'],\n",
            "      dtype='object')\n",
            "10 코스피.csv\n",
            "Index(['Date', 'kospi_open', 'kospi_high', 'kospi_low', 'kospi_close',\n",
            "       'kospi_adj', 'kospi_volume'],\n",
            "      dtype='object')\n",
            "11 다우지수.csv\n",
            "Index(['Date', 'dow_open', 'dow_high', 'dow_low', 'dow_close', 'dow_adj',\n",
            "       'dow_volume'],\n",
            "      dtype='object')\n",
            "12 snp500.csv\n",
            "Index(['Date', 'snp500_open', 'snp500_high', 'snp500_low', 'snp500_close',\n",
            "       'snp500_adj', 'snp500_volume'],\n",
            "      dtype='object')\n",
            "13 텍사스유(WTI).csv\n",
            "Index(['Date', 'WTI_barrel'], dtype='object')\n",
            "14 gold_price.csv\n",
            "Index(['Date', 'USD/T.oz'], dtype='object')\n"
          ],
          "name": "stdout"
        }
      ]
    },
    {
      "cell_type": "markdown",
      "metadata": {
        "id": "cSHeWtYnn7dP",
        "colab_type": "text"
      },
      "source": [
        "# 데이트타임으로 바꾸기"
      ]
    },
    {
      "cell_type": "code",
      "metadata": {
        "id": "Qv0ohBG0n9yW",
        "colab_type": "code",
        "colab": {}
      },
      "source": [
        "# Date의 object 형식을 데이트타임으로 바꿈 \n",
        "\n",
        "for i in range(0,15):\n",
        "  name[i]['Date'] = name[i]['Date'].astype('datetime64[ns]')"
      ],
      "execution_count": 0,
      "outputs": []
    },
    {
      "cell_type": "markdown",
      "metadata": {
        "id": "lWsoQUUHld5n",
        "colab_type": "text"
      },
      "source": [
        "# 합치기"
      ]
    },
    {
      "cell_type": "code",
      "metadata": {
        "id": "2WGHQzpZiWAn",
        "colab_type": "code",
        "colab": {}
      },
      "source": [
        "# Date 컬럼을 기준으로 모든 컬럼을 하나로 합침 \n",
        "\n",
        "basedf = name[14]\n",
        "\n",
        "for i in range(0,14):\n",
        "  basedf = pd.merge(basedf, name[i],how='left',on='Date')"
      ],
      "execution_count": 0,
      "outputs": []
    },
    {
      "cell_type": "code",
      "metadata": {
        "id": "AEr9Fx7PiV7l",
        "colab_type": "code",
        "colab": {}
      },
      "source": [
        "# total.csv로 저장 \n",
        "\n",
        "basedf.to_csv('total.csv',index=False)"
      ],
      "execution_count": 0,
      "outputs": []
    },
    {
      "cell_type": "code",
      "metadata": {
        "id": "218sl11Sompv",
        "colab_type": "code",
        "colab": {}
      },
      "source": [
        "# Date 기준으로 정렬\n",
        "\n",
        "basedf=basedf.sort_values('Date')"
      ],
      "execution_count": 0,
      "outputs": []
    },
    {
      "cell_type": "code",
      "metadata": {
        "id": "7of4i0PCnJt8",
        "colab_type": "code",
        "colab": {}
      },
      "source": [
        "# Date를 인덱스로 바꿈\n",
        "\n",
        "basedf=basedf.set_index('Date')"
      ],
      "execution_count": 0,
      "outputs": []
    },
    {
      "cell_type": "code",
      "metadata": {
        "id": "DclGmgiuofb5",
        "colab_type": "code",
        "outputId": "dff5e589-b341-4e9a-8b2d-0956dd3c3a29",
        "colab": {
          "base_uri": "https://localhost:8080/",
          "height": 340
        }
      },
      "source": [
        "basedf.head()"
      ],
      "execution_count": 0,
      "outputs": [
        {
          "output_type": "execute_result",
          "data": {
            "text/html": [
              "<div>\n",
              "<style scoped>\n",
              "    .dataframe tbody tr th:only-of-type {\n",
              "        vertical-align: middle;\n",
              "    }\n",
              "\n",
              "    .dataframe tbody tr th {\n",
              "        vertical-align: top;\n",
              "    }\n",
              "\n",
              "    .dataframe thead th {\n",
              "        text-align: right;\n",
              "    }\n",
              "</style>\n",
              "<table border=\"1\" class=\"dataframe\">\n",
              "  <thead>\n",
              "    <tr style=\"text-align: right;\">\n",
              "      <th></th>\n",
              "      <th>USD/T.oz</th>\n",
              "      <th>gold_demand</th>\n",
              "      <th>index_price</th>\n",
              "      <th>index_volume</th>\n",
              "      <th>index_change</th>\n",
              "      <th>cny/krw</th>\n",
              "      <th>usd/krw</th>\n",
              "      <th>100jpy/krw</th>\n",
              "      <th>eur/krw</th>\n",
              "      <th>gbp/krw</th>\n",
              "      <th>gold_reserves</th>\n",
              "      <th>brandt_barrel</th>\n",
              "      <th>nasdaq_open</th>\n",
              "      <th>nasdaq_high</th>\n",
              "      <th>nasdaq_low</th>\n",
              "      <th>nasdaq_close</th>\n",
              "      <th>nasdaq_adj</th>\n",
              "      <th>nasdaq_volume</th>\n",
              "      <th>kospi_open</th>\n",
              "      <th>kospi_high</th>\n",
              "      <th>kospi_low</th>\n",
              "      <th>kospi_close</th>\n",
              "      <th>kospi_adj</th>\n",
              "      <th>kospi_volume</th>\n",
              "      <th>dow_open</th>\n",
              "      <th>dow_high</th>\n",
              "      <th>dow_low</th>\n",
              "      <th>dow_close</th>\n",
              "      <th>dow_adj</th>\n",
              "      <th>dow_volume</th>\n",
              "      <th>snp500_open</th>\n",
              "      <th>snp500_high</th>\n",
              "      <th>snp500_low</th>\n",
              "      <th>snp500_close</th>\n",
              "      <th>snp500_adj</th>\n",
              "      <th>snp500_volume</th>\n",
              "      <th>WTI_barrel</th>\n",
              "    </tr>\n",
              "    <tr>\n",
              "      <th>Date</th>\n",
              "      <th></th>\n",
              "      <th></th>\n",
              "      <th></th>\n",
              "      <th></th>\n",
              "      <th></th>\n",
              "      <th></th>\n",
              "      <th></th>\n",
              "      <th></th>\n",
              "      <th></th>\n",
              "      <th></th>\n",
              "      <th></th>\n",
              "      <th></th>\n",
              "      <th></th>\n",
              "      <th></th>\n",
              "      <th></th>\n",
              "      <th></th>\n",
              "      <th></th>\n",
              "      <th></th>\n",
              "      <th></th>\n",
              "      <th></th>\n",
              "      <th></th>\n",
              "      <th></th>\n",
              "      <th></th>\n",
              "      <th></th>\n",
              "      <th></th>\n",
              "      <th></th>\n",
              "      <th></th>\n",
              "      <th></th>\n",
              "      <th></th>\n",
              "      <th></th>\n",
              "      <th></th>\n",
              "      <th></th>\n",
              "      <th></th>\n",
              "      <th></th>\n",
              "      <th></th>\n",
              "      <th></th>\n",
              "      <th></th>\n",
              "    </tr>\n",
              "  </thead>\n",
              "  <tbody>\n",
              "    <tr>\n",
              "      <th>2003-11-03</th>\n",
              "      <td>383.58</td>\n",
              "      <td>NaN</td>\n",
              "      <td>93.87</td>\n",
              "      <td>4.20K</td>\n",
              "      <td>1.07%</td>\n",
              "      <td>143.24</td>\n",
              "      <td>1185.5</td>\n",
              "      <td>1075.77</td>\n",
              "      <td>1373.40</td>\n",
              "      <td>2009.42</td>\n",
              "      <td>NaN</td>\n",
              "      <td>NaN</td>\n",
              "      <td>1941.310059</td>\n",
              "      <td>1969.260010</td>\n",
              "      <td>1941.310059</td>\n",
              "      <td>1967.699951</td>\n",
              "      <td>1967.699951</td>\n",
              "      <td>2.089430e+09</td>\n",
              "      <td>783.080017</td>\n",
              "      <td>793.530029</td>\n",
              "      <td>778.039978</td>\n",
              "      <td>791.960022</td>\n",
              "      <td>791.960022</td>\n",
              "      <td>434400.0</td>\n",
              "      <td>9802.459961</td>\n",
              "      <td>9896.160156</td>\n",
              "      <td>9802.379883</td>\n",
              "      <td>9858.459961</td>\n",
              "      <td>9858.459961</td>\n",
              "      <td>190630000.0</td>\n",
              "      <td>1050.709961</td>\n",
              "      <td>1061.439941</td>\n",
              "      <td>1050.709961</td>\n",
              "      <td>1059.020020</td>\n",
              "      <td>1059.020020</td>\n",
              "      <td>1.378200e+09</td>\n",
              "      <td>28.81</td>\n",
              "    </tr>\n",
              "    <tr>\n",
              "      <th>2003-11-04</th>\n",
              "      <td>377.48</td>\n",
              "      <td>NaN</td>\n",
              "      <td>93.45</td>\n",
              "      <td>1.89K</td>\n",
              "      <td>-0.45%</td>\n",
              "      <td>143.17</td>\n",
              "      <td>1185.0</td>\n",
              "      <td>1074.34</td>\n",
              "      <td>1357.42</td>\n",
              "      <td>1984.28</td>\n",
              "      <td>NaN</td>\n",
              "      <td>NaN</td>\n",
              "      <td>1961.449951</td>\n",
              "      <td>1971.380005</td>\n",
              "      <td>1953.640015</td>\n",
              "      <td>1957.969971</td>\n",
              "      <td>1957.969971</td>\n",
              "      <td>2.081990e+09</td>\n",
              "      <td>800.419983</td>\n",
              "      <td>802.659973</td>\n",
              "      <td>790.989990</td>\n",
              "      <td>796.059998</td>\n",
              "      <td>796.059998</td>\n",
              "      <td>606400.0</td>\n",
              "      <td>9857.490234</td>\n",
              "      <td>9874.830078</td>\n",
              "      <td>9819.860352</td>\n",
              "      <td>9838.830078</td>\n",
              "      <td>9838.830078</td>\n",
              "      <td>197300000.0</td>\n",
              "      <td>1059.020020</td>\n",
              "      <td>1059.020020</td>\n",
              "      <td>1051.699951</td>\n",
              "      <td>1053.250000</td>\n",
              "      <td>1053.250000</td>\n",
              "      <td>1.417600e+09</td>\n",
              "      <td>28.86</td>\n",
              "    </tr>\n",
              "    <tr>\n",
              "      <th>2003-11-05</th>\n",
              "      <td>381.15</td>\n",
              "      <td>NaN</td>\n",
              "      <td>93.82</td>\n",
              "      <td>0.95K</td>\n",
              "      <td>0.40%</td>\n",
              "      <td>142.87</td>\n",
              "      <td>1182.5</td>\n",
              "      <td>1077.94</td>\n",
              "      <td>1358.69</td>\n",
              "      <td>1993.70</td>\n",
              "      <td>NaN</td>\n",
              "      <td>NaN</td>\n",
              "      <td>1957.000000</td>\n",
              "      <td>1966.150024</td>\n",
              "      <td>1938.219971</td>\n",
              "      <td>1959.369995</td>\n",
              "      <td>1959.369995</td>\n",
              "      <td>2.018140e+09</td>\n",
              "      <td>796.359985</td>\n",
              "      <td>806.789978</td>\n",
              "      <td>794.580017</td>\n",
              "      <td>805.510010</td>\n",
              "      <td>805.510010</td>\n",
              "      <td>604200.0</td>\n",
              "      <td>9837.639648</td>\n",
              "      <td>9859.339844</td>\n",
              "      <td>9778.309570</td>\n",
              "      <td>9820.830078</td>\n",
              "      <td>9820.830078</td>\n",
              "      <td>178470000.0</td>\n",
              "      <td>1053.250000</td>\n",
              "      <td>1054.540039</td>\n",
              "      <td>1044.880005</td>\n",
              "      <td>1051.810059</td>\n",
              "      <td>1051.810059</td>\n",
              "      <td>1.401800e+09</td>\n",
              "      <td>30.29</td>\n",
              "    </tr>\n",
              "    <tr>\n",
              "      <th>2003-11-06</th>\n",
              "      <td>383.37</td>\n",
              "      <td>NaN</td>\n",
              "      <td>94.10</td>\n",
              "      <td>4.17K</td>\n",
              "      <td>0.30%</td>\n",
              "      <td>142.69</td>\n",
              "      <td>1181.0</td>\n",
              "      <td>1075.10</td>\n",
              "      <td>1352.84</td>\n",
              "      <td>1981.13</td>\n",
              "      <td>NaN</td>\n",
              "      <td>NaN</td>\n",
              "      <td>1971.270020</td>\n",
              "      <td>1977.910034</td>\n",
              "      <td>1953.339966</td>\n",
              "      <td>1976.369995</td>\n",
              "      <td>1976.369995</td>\n",
              "      <td>2.141830e+09</td>\n",
              "      <td>809.919983</td>\n",
              "      <td>811.969971</td>\n",
              "      <td>790.039978</td>\n",
              "      <td>790.039978</td>\n",
              "      <td>790.039978</td>\n",
              "      <td>610800.0</td>\n",
              "      <td>9820.679688</td>\n",
              "      <td>9870.599609</td>\n",
              "      <td>9773.120117</td>\n",
              "      <td>9856.969727</td>\n",
              "      <td>9856.969727</td>\n",
              "      <td>183020000.0</td>\n",
              "      <td>1051.810059</td>\n",
              "      <td>1058.939941</td>\n",
              "      <td>1046.930054</td>\n",
              "      <td>1058.050049</td>\n",
              "      <td>1058.050049</td>\n",
              "      <td>1.453900e+09</td>\n",
              "      <td>30.25</td>\n",
              "    </tr>\n",
              "    <tr>\n",
              "      <th>2003-11-07</th>\n",
              "      <td>381.4</td>\n",
              "      <td>NaN</td>\n",
              "      <td>93.20</td>\n",
              "      <td>2.47K</td>\n",
              "      <td>-0.96%</td>\n",
              "      <td>142.48</td>\n",
              "      <td>1179.3</td>\n",
              "      <td>1071.12</td>\n",
              "      <td>1347.35</td>\n",
              "      <td>1966.48</td>\n",
              "      <td>NaN</td>\n",
              "      <td>NaN</td>\n",
              "      <td>1986.560059</td>\n",
              "      <td>1992.270020</td>\n",
              "      <td>1968.810059</td>\n",
              "      <td>1970.739990</td>\n",
              "      <td>1970.739990</td>\n",
              "      <td>1.957330e+09</td>\n",
              "      <td>796.580017</td>\n",
              "      <td>804.049988</td>\n",
              "      <td>789.969971</td>\n",
              "      <td>804.049988</td>\n",
              "      <td>804.049988</td>\n",
              "      <td>469000.0</td>\n",
              "      <td>9857.120117</td>\n",
              "      <td>9903.570313</td>\n",
              "      <td>9798.610352</td>\n",
              "      <td>9809.790039</td>\n",
              "      <td>9809.790039</td>\n",
              "      <td>199350000.0</td>\n",
              "      <td>1058.050049</td>\n",
              "      <td>1062.390015</td>\n",
              "      <td>1052.170044</td>\n",
              "      <td>1053.209961</td>\n",
              "      <td>1053.209961</td>\n",
              "      <td>1.440500e+09</td>\n",
              "      <td>30.73</td>\n",
              "    </tr>\n",
              "  </tbody>\n",
              "</table>\n",
              "</div>"
            ],
            "text/plain": [
              "           USD/T.oz  gold_demand  ...  snp500_volume WTI_barrel\n",
              "Date                              ...                          \n",
              "2003-11-03   383.58          NaN  ...   1.378200e+09      28.81\n",
              "2003-11-04   377.48          NaN  ...   1.417600e+09      28.86\n",
              "2003-11-05   381.15          NaN  ...   1.401800e+09      30.29\n",
              "2003-11-06   383.37          NaN  ...   1.453900e+09      30.25\n",
              "2003-11-07    381.4          NaN  ...   1.440500e+09      30.73\n",
              "\n",
              "[5 rows x 37 columns]"
            ]
          },
          "metadata": {
            "tags": []
          },
          "execution_count": 79
        }
      ]
    },
    {
      "cell_type": "code",
      "metadata": {
        "id": "pxDDlTzVpBK0",
        "colab_type": "code",
        "outputId": "2d39bfce-d822-4a2f-9376-cec034ec44b6",
        "colab": {
          "base_uri": "https://localhost:8080/",
          "height": 773
        }
      },
      "source": [
        "basedf.info()"
      ],
      "execution_count": 0,
      "outputs": [
        {
          "output_type": "stream",
          "text": [
            "<class 'pandas.core.frame.DataFrame'>\n",
            "DatetimeIndex: 3913 entries, 2003-11-03 to 2019-07-31\n",
            "Data columns (total 37 columns):\n",
            "USD/T.oz         3913 non-null object\n",
            "gold_demand      24 non-null float64\n",
            "index_price      3877 non-null float64\n",
            "index_volume     3877 non-null object\n",
            "index_change     3877 non-null object\n",
            "cny/krw          3913 non-null float64\n",
            "usd/krw          3913 non-null float64\n",
            "100jpy/krw       3913 non-null float64\n",
            "eur/krw          3913 non-null float64\n",
            "gbp/krw          3913 non-null float64\n",
            "gold_reserves    24 non-null float64\n",
            "brandt_barrel    99 non-null float64\n",
            "nasdaq_open      3793 non-null float64\n",
            "nasdaq_high      3793 non-null float64\n",
            "nasdaq_low       3793 non-null float64\n",
            "nasdaq_close     3793 non-null float64\n",
            "nasdaq_adj       3793 non-null float64\n",
            "nasdaq_volume    3793 non-null float64\n",
            "kospi_open       3887 non-null float64\n",
            "kospi_high       3887 non-null float64\n",
            "kospi_low        3887 non-null float64\n",
            "kospi_close      3887 non-null float64\n",
            "kospi_adj        3887 non-null float64\n",
            "kospi_volume     3887 non-null float64\n",
            "dow_open         3793 non-null float64\n",
            "dow_high         3793 non-null float64\n",
            "dow_low          3793 non-null float64\n",
            "dow_close        3793 non-null float64\n",
            "dow_adj          3793 non-null float64\n",
            "dow_volume       3793 non-null float64\n",
            "snp500_open      3793 non-null float64\n",
            "snp500_high      3793 non-null float64\n",
            "snp500_low       3793 non-null float64\n",
            "snp500_close     3793 non-null float64\n",
            "snp500_adj       3793 non-null float64\n",
            "snp500_volume    3793 non-null float64\n",
            "WTI_barrel       3911 non-null object\n",
            "dtypes: float64(33), object(4)\n",
            "memory usage: 1.1+ MB\n"
          ],
          "name": "stdout"
        }
      ]
    },
    {
      "cell_type": "markdown",
      "metadata": {
        "id": "x4vOj_hS0hq-",
        "colab_type": "text"
      },
      "source": [
        "#object형식을 float형식으로 변환"
      ]
    },
    {
      "cell_type": "code",
      "metadata": {
        "id": "ipr22MVlpuSd",
        "colab_type": "code",
        "colab": {}
      },
      "source": [
        "# 'USD/T.oz' 컬럼에 ',' 제거 후 float형식으로 변환\n",
        "\n",
        "def replace_1(x):\n",
        "  return x.replace(',','')\n",
        "\n",
        "basedf['USD/T.oz']= basedf['USD/T.oz'].apply(replace_1)\n",
        "basedf['USD/T.oz']=basedf['USD/T.oz'].astype('float')"
      ],
      "execution_count": 0,
      "outputs": []
    },
    {
      "cell_type": "code",
      "metadata": {
        "id": "owg7jNCSqmme",
        "colab_type": "code",
        "colab": {}
      },
      "source": [
        "# 'index_volume' 컬럼에 '-' 을 NaN으로 변경 후 float형식으로 변환\n",
        "\n",
        "def replace_percent(x):\n",
        "    try: \n",
        "        return x.replace('-', 'NaN')\n",
        "    except AttributeError:\n",
        "        return np.NaN\n",
        "\n",
        "basedf['index_volume']= basedf['index_volume'].apply(replace_percent)\n",
        "basedf['index_volume']=basedf['index_volume'].astype('float')"
      ],
      "execution_count": 0,
      "outputs": []
    },
    {
      "cell_type": "code",
      "metadata": {
        "colab_type": "code",
        "id": "1Y9TxjkU58dj",
        "colab": {}
      },
      "source": [
        "# 'index_change'컬럼에 % 제거 후 float형식으로 변환\n",
        "\n",
        "def replace_percent(x):\n",
        "    try: \n",
        "        return x.replace('%', '')\n",
        "    except AttributeError:\n",
        "        return np.NaN\n",
        "\n",
        "basedf['index_change']= basedf['index_change'].apply(replace_percent)\n",
        "basedf['index_change']=basedf['index_change'].astype('float')"
      ],
      "execution_count": 0,
      "outputs": []
    },
    {
      "cell_type": "code",
      "metadata": {
        "id": "JGLKM8YPtfed",
        "colab_type": "code",
        "outputId": "9edab26c-6895-4a26-867d-7e0bc30306e8",
        "colab": {
          "base_uri": "https://localhost:8080/",
          "height": 773
        }
      },
      "source": [
        "basedf.info()"
      ],
      "execution_count": 0,
      "outputs": [
        {
          "output_type": "stream",
          "text": [
            "<class 'pandas.core.frame.DataFrame'>\n",
            "DatetimeIndex: 3784 entries, 2003-11-03 to 2019-07-31\n",
            "Data columns (total 37 columns):\n",
            "USD/T.oz         3784 non-null float64\n",
            "gold_demand      23 non-null float64\n",
            "index_price      3784 non-null float64\n",
            "index_volume     3778 non-null float64\n",
            "index_change     3784 non-null float64\n",
            "cny/krw          3784 non-null float64\n",
            "usd/krw          3784 non-null float64\n",
            "100jpy/krw       3784 non-null float64\n",
            "eur/krw          3784 non-null float64\n",
            "gbp/krw          3784 non-null float64\n",
            "gold_reserves    23 non-null float64\n",
            "brandt_barrel    97 non-null float64\n",
            "nasdaq_open      3780 non-null float64\n",
            "nasdaq_high      3780 non-null float64\n",
            "nasdaq_low       3780 non-null float64\n",
            "nasdaq_close     3780 non-null float64\n",
            "nasdaq_adj       3780 non-null float64\n",
            "nasdaq_volume    3780 non-null float64\n",
            "kospi_open       3762 non-null float64\n",
            "kospi_high       3762 non-null float64\n",
            "kospi_low        3762 non-null float64\n",
            "kospi_close      3762 non-null float64\n",
            "kospi_adj        3762 non-null float64\n",
            "kospi_volume     3762 non-null float64\n",
            "dow_open         3780 non-null float64\n",
            "dow_high         3780 non-null float64\n",
            "dow_low          3780 non-null float64\n",
            "dow_close        3780 non-null float64\n",
            "dow_adj          3780 non-null float64\n",
            "dow_volume       3780 non-null float64\n",
            "snp500_open      3780 non-null float64\n",
            "snp500_high      3780 non-null float64\n",
            "snp500_low       3780 non-null float64\n",
            "snp500_close     3780 non-null float64\n",
            "snp500_adj       3780 non-null float64\n",
            "snp500_volume    3780 non-null float64\n",
            "WTI_barrel       3782 non-null object\n",
            "dtypes: float64(36), object(1)\n",
            "memory usage: 1.1+ MB\n"
          ],
          "name": "stdout"
        }
      ]
    },
    {
      "cell_type": "code",
      "metadata": {
        "id": "GxkOBklhHpy6",
        "colab_type": "code",
        "colab": {}
      },
      "source": [
        "# 누락되어 있던 문자열 float으로 바꿔줌\n",
        "\n",
        "basedf['WTI_barrel']=basedf['WTI_barrel'].astype('float')"
      ],
      "execution_count": 0,
      "outputs": []
    },
    {
      "cell_type": "markdown",
      "metadata": {
        "id": "UccyK-NK8yDi",
        "colab_type": "text"
      },
      "source": [
        "## csv 파일과 pkl파일로 저장해 둠"
      ]
    },
    {
      "cell_type": "code",
      "metadata": {
        "id": "DNKBENtDsUQM",
        "colab_type": "code",
        "colab": {}
      },
      "source": [
        "gold.to_csv('total_gold.csv',index=False)"
      ],
      "execution_count": 0,
      "outputs": []
    },
    {
      "cell_type": "code",
      "metadata": {
        "id": "Cy_6DYnssUNc",
        "colab_type": "code",
        "colab": {}
      },
      "source": [
        "pickle.dump(gold,open('total_gold.pkl','wb'))"
      ],
      "execution_count": 0,
      "outputs": []
    },
    {
      "cell_type": "code",
      "metadata": {
        "id": "99heFmdfvKnp",
        "colab_type": "code",
        "colab": {}
      },
      "source": [
        "gold=pickle.load(open('total_gold.pkl','rb'))"
      ],
      "execution_count": 0,
      "outputs": []
    },
    {
      "cell_type": "code",
      "metadata": {
        "id": "ODPS3WsNvTg9",
        "colab_type": "code",
        "outputId": "690f1f40-c693-4b5d-899e-13aa30af4282",
        "colab": {
          "base_uri": "https://localhost:8080/",
          "height": 340
        }
      },
      "source": [
        "gold.head()"
      ],
      "execution_count": 0,
      "outputs": [
        {
          "output_type": "execute_result",
          "data": {
            "text/html": [
              "<div>\n",
              "<style scoped>\n",
              "    .dataframe tbody tr th:only-of-type {\n",
              "        vertical-align: middle;\n",
              "    }\n",
              "\n",
              "    .dataframe tbody tr th {\n",
              "        vertical-align: top;\n",
              "    }\n",
              "\n",
              "    .dataframe thead th {\n",
              "        text-align: right;\n",
              "    }\n",
              "</style>\n",
              "<table border=\"1\" class=\"dataframe\">\n",
              "  <thead>\n",
              "    <tr style=\"text-align: right;\">\n",
              "      <th></th>\n",
              "      <th>USD/T.oz</th>\n",
              "      <th>gold_demand</th>\n",
              "      <th>index_price</th>\n",
              "      <th>index_volume</th>\n",
              "      <th>index_change</th>\n",
              "      <th>cny/krw</th>\n",
              "      <th>usd/krw</th>\n",
              "      <th>100jpy/krw</th>\n",
              "      <th>eur/krw</th>\n",
              "      <th>gbp/krw</th>\n",
              "      <th>gold_reserves</th>\n",
              "      <th>brandt_barrel</th>\n",
              "      <th>nasdaq_open</th>\n",
              "      <th>nasdaq_high</th>\n",
              "      <th>nasdaq_low</th>\n",
              "      <th>nasdaq_close</th>\n",
              "      <th>nasdaq_adj</th>\n",
              "      <th>nasdaq_volume</th>\n",
              "      <th>kospi_open</th>\n",
              "      <th>kospi_high</th>\n",
              "      <th>kospi_low</th>\n",
              "      <th>kospi_close</th>\n",
              "      <th>kospi_adj</th>\n",
              "      <th>kospi_volume</th>\n",
              "      <th>dow_open</th>\n",
              "      <th>dow_high</th>\n",
              "      <th>dow_low</th>\n",
              "      <th>dow_close</th>\n",
              "      <th>dow_adj</th>\n",
              "      <th>dow_volume</th>\n",
              "      <th>snp500_open</th>\n",
              "      <th>snp500_high</th>\n",
              "      <th>snp500_low</th>\n",
              "      <th>snp500_close</th>\n",
              "      <th>snp500_adj</th>\n",
              "      <th>snp500_volume</th>\n",
              "      <th>WTI_barrel</th>\n",
              "    </tr>\n",
              "    <tr>\n",
              "      <th>Date</th>\n",
              "      <th></th>\n",
              "      <th></th>\n",
              "      <th></th>\n",
              "      <th></th>\n",
              "      <th></th>\n",
              "      <th></th>\n",
              "      <th></th>\n",
              "      <th></th>\n",
              "      <th></th>\n",
              "      <th></th>\n",
              "      <th></th>\n",
              "      <th></th>\n",
              "      <th></th>\n",
              "      <th></th>\n",
              "      <th></th>\n",
              "      <th></th>\n",
              "      <th></th>\n",
              "      <th></th>\n",
              "      <th></th>\n",
              "      <th></th>\n",
              "      <th></th>\n",
              "      <th></th>\n",
              "      <th></th>\n",
              "      <th></th>\n",
              "      <th></th>\n",
              "      <th></th>\n",
              "      <th></th>\n",
              "      <th></th>\n",
              "      <th></th>\n",
              "      <th></th>\n",
              "      <th></th>\n",
              "      <th></th>\n",
              "      <th></th>\n",
              "      <th></th>\n",
              "      <th></th>\n",
              "      <th></th>\n",
              "      <th></th>\n",
              "    </tr>\n",
              "  </thead>\n",
              "  <tbody>\n",
              "    <tr>\n",
              "      <th>2003-11-03</th>\n",
              "      <td>383.58</td>\n",
              "      <td>NaN</td>\n",
              "      <td>93.87</td>\n",
              "      <td>4.20</td>\n",
              "      <td>1.07</td>\n",
              "      <td>143.24</td>\n",
              "      <td>1185.5</td>\n",
              "      <td>1075.77</td>\n",
              "      <td>1373.40</td>\n",
              "      <td>2009.42</td>\n",
              "      <td>NaN</td>\n",
              "      <td>NaN</td>\n",
              "      <td>1941.310059</td>\n",
              "      <td>1969.260010</td>\n",
              "      <td>1941.310059</td>\n",
              "      <td>1967.699951</td>\n",
              "      <td>1967.699951</td>\n",
              "      <td>2.089430e+09</td>\n",
              "      <td>783.080017</td>\n",
              "      <td>793.530029</td>\n",
              "      <td>778.039978</td>\n",
              "      <td>791.960022</td>\n",
              "      <td>791.960022</td>\n",
              "      <td>434400.0</td>\n",
              "      <td>9802.459961</td>\n",
              "      <td>9896.160156</td>\n",
              "      <td>9802.379883</td>\n",
              "      <td>9858.459961</td>\n",
              "      <td>9858.459961</td>\n",
              "      <td>190630000.0</td>\n",
              "      <td>1050.709961</td>\n",
              "      <td>1061.439941</td>\n",
              "      <td>1050.709961</td>\n",
              "      <td>1059.020020</td>\n",
              "      <td>1059.020020</td>\n",
              "      <td>1.378200e+09</td>\n",
              "      <td>28.81</td>\n",
              "    </tr>\n",
              "    <tr>\n",
              "      <th>2003-11-04</th>\n",
              "      <td>377.48</td>\n",
              "      <td>NaN</td>\n",
              "      <td>93.45</td>\n",
              "      <td>1.89</td>\n",
              "      <td>-0.45</td>\n",
              "      <td>143.17</td>\n",
              "      <td>1185.0</td>\n",
              "      <td>1074.34</td>\n",
              "      <td>1357.42</td>\n",
              "      <td>1984.28</td>\n",
              "      <td>NaN</td>\n",
              "      <td>NaN</td>\n",
              "      <td>1961.449951</td>\n",
              "      <td>1971.380005</td>\n",
              "      <td>1953.640015</td>\n",
              "      <td>1957.969971</td>\n",
              "      <td>1957.969971</td>\n",
              "      <td>2.081990e+09</td>\n",
              "      <td>800.419983</td>\n",
              "      <td>802.659973</td>\n",
              "      <td>790.989990</td>\n",
              "      <td>796.059998</td>\n",
              "      <td>796.059998</td>\n",
              "      <td>606400.0</td>\n",
              "      <td>9857.490234</td>\n",
              "      <td>9874.830078</td>\n",
              "      <td>9819.860352</td>\n",
              "      <td>9838.830078</td>\n",
              "      <td>9838.830078</td>\n",
              "      <td>197300000.0</td>\n",
              "      <td>1059.020020</td>\n",
              "      <td>1059.020020</td>\n",
              "      <td>1051.699951</td>\n",
              "      <td>1053.250000</td>\n",
              "      <td>1053.250000</td>\n",
              "      <td>1.417600e+09</td>\n",
              "      <td>28.86</td>\n",
              "    </tr>\n",
              "    <tr>\n",
              "      <th>2003-11-05</th>\n",
              "      <td>381.15</td>\n",
              "      <td>NaN</td>\n",
              "      <td>93.82</td>\n",
              "      <td>0.95</td>\n",
              "      <td>0.40</td>\n",
              "      <td>142.87</td>\n",
              "      <td>1182.5</td>\n",
              "      <td>1077.94</td>\n",
              "      <td>1358.69</td>\n",
              "      <td>1993.70</td>\n",
              "      <td>NaN</td>\n",
              "      <td>NaN</td>\n",
              "      <td>1957.000000</td>\n",
              "      <td>1966.150024</td>\n",
              "      <td>1938.219971</td>\n",
              "      <td>1959.369995</td>\n",
              "      <td>1959.369995</td>\n",
              "      <td>2.018140e+09</td>\n",
              "      <td>796.359985</td>\n",
              "      <td>806.789978</td>\n",
              "      <td>794.580017</td>\n",
              "      <td>805.510010</td>\n",
              "      <td>805.510010</td>\n",
              "      <td>604200.0</td>\n",
              "      <td>9837.639648</td>\n",
              "      <td>9859.339844</td>\n",
              "      <td>9778.309570</td>\n",
              "      <td>9820.830078</td>\n",
              "      <td>9820.830078</td>\n",
              "      <td>178470000.0</td>\n",
              "      <td>1053.250000</td>\n",
              "      <td>1054.540039</td>\n",
              "      <td>1044.880005</td>\n",
              "      <td>1051.810059</td>\n",
              "      <td>1051.810059</td>\n",
              "      <td>1.401800e+09</td>\n",
              "      <td>30.29</td>\n",
              "    </tr>\n",
              "    <tr>\n",
              "      <th>2003-11-06</th>\n",
              "      <td>383.37</td>\n",
              "      <td>NaN</td>\n",
              "      <td>94.10</td>\n",
              "      <td>4.17</td>\n",
              "      <td>0.30</td>\n",
              "      <td>142.69</td>\n",
              "      <td>1181.0</td>\n",
              "      <td>1075.10</td>\n",
              "      <td>1352.84</td>\n",
              "      <td>1981.13</td>\n",
              "      <td>NaN</td>\n",
              "      <td>NaN</td>\n",
              "      <td>1971.270020</td>\n",
              "      <td>1977.910034</td>\n",
              "      <td>1953.339966</td>\n",
              "      <td>1976.369995</td>\n",
              "      <td>1976.369995</td>\n",
              "      <td>2.141830e+09</td>\n",
              "      <td>809.919983</td>\n",
              "      <td>811.969971</td>\n",
              "      <td>790.039978</td>\n",
              "      <td>790.039978</td>\n",
              "      <td>790.039978</td>\n",
              "      <td>610800.0</td>\n",
              "      <td>9820.679688</td>\n",
              "      <td>9870.599609</td>\n",
              "      <td>9773.120117</td>\n",
              "      <td>9856.969727</td>\n",
              "      <td>9856.969727</td>\n",
              "      <td>183020000.0</td>\n",
              "      <td>1051.810059</td>\n",
              "      <td>1058.939941</td>\n",
              "      <td>1046.930054</td>\n",
              "      <td>1058.050049</td>\n",
              "      <td>1058.050049</td>\n",
              "      <td>1.453900e+09</td>\n",
              "      <td>30.25</td>\n",
              "    </tr>\n",
              "    <tr>\n",
              "      <th>2003-11-07</th>\n",
              "      <td>381.40</td>\n",
              "      <td>NaN</td>\n",
              "      <td>93.20</td>\n",
              "      <td>2.47</td>\n",
              "      <td>-0.96</td>\n",
              "      <td>142.48</td>\n",
              "      <td>1179.3</td>\n",
              "      <td>1071.12</td>\n",
              "      <td>1347.35</td>\n",
              "      <td>1966.48</td>\n",
              "      <td>NaN</td>\n",
              "      <td>NaN</td>\n",
              "      <td>1986.560059</td>\n",
              "      <td>1992.270020</td>\n",
              "      <td>1968.810059</td>\n",
              "      <td>1970.739990</td>\n",
              "      <td>1970.739990</td>\n",
              "      <td>1.957330e+09</td>\n",
              "      <td>796.580017</td>\n",
              "      <td>804.049988</td>\n",
              "      <td>789.969971</td>\n",
              "      <td>804.049988</td>\n",
              "      <td>804.049988</td>\n",
              "      <td>469000.0</td>\n",
              "      <td>9857.120117</td>\n",
              "      <td>9903.570313</td>\n",
              "      <td>9798.610352</td>\n",
              "      <td>9809.790039</td>\n",
              "      <td>9809.790039</td>\n",
              "      <td>199350000.0</td>\n",
              "      <td>1058.050049</td>\n",
              "      <td>1062.390015</td>\n",
              "      <td>1052.170044</td>\n",
              "      <td>1053.209961</td>\n",
              "      <td>1053.209961</td>\n",
              "      <td>1.440500e+09</td>\n",
              "      <td>30.73</td>\n",
              "    </tr>\n",
              "  </tbody>\n",
              "</table>\n",
              "</div>"
            ],
            "text/plain": [
              "            USD/T.oz  gold_demand  ...  snp500_volume  WTI_barrel\n",
              "Date                               ...                           \n",
              "2003-11-03    383.58          NaN  ...   1.378200e+09       28.81\n",
              "2003-11-04    377.48          NaN  ...   1.417600e+09       28.86\n",
              "2003-11-05    381.15          NaN  ...   1.401800e+09       30.29\n",
              "2003-11-06    383.37          NaN  ...   1.453900e+09       30.25\n",
              "2003-11-07    381.40          NaN  ...   1.440500e+09       30.73\n",
              "\n",
              "[5 rows x 37 columns]"
            ]
          },
          "metadata": {
            "tags": []
          },
          "execution_count": 155
        }
      ]
    },
    {
      "cell_type": "code",
      "metadata": {
        "id": "9eSKMBolvRUZ",
        "colab_type": "code",
        "outputId": "6159f9d0-ab4d-4c2d-91b4-b53914a8168b",
        "colab": {
          "base_uri": "https://localhost:8080/",
          "height": 197
        }
      },
      "source": [
        "gold.columns"
      ],
      "execution_count": 0,
      "outputs": [
        {
          "output_type": "execute_result",
          "data": {
            "text/plain": [
              "Index(['USD/T.oz', 'gold_demand', 'index_price', 'index_volume',\n",
              "       'index_change', 'cny/krw', 'usd/krw', '100jpy/krw', 'eur/krw',\n",
              "       'gbp/krw', 'gold_reserves', 'brandt_barrel', 'nasdaq_open',\n",
              "       'nasdaq_high', 'nasdaq_low', 'nasdaq_close', 'nasdaq_adj',\n",
              "       'nasdaq_volume', 'kospi_open', 'kospi_high', 'kospi_low', 'kospi_close',\n",
              "       'kospi_adj', 'kospi_volume', 'dow_open', 'dow_high', 'dow_low',\n",
              "       'dow_close', 'dow_adj', 'dow_volume', 'snp500_open', 'snp500_high',\n",
              "       'snp500_low', 'snp500_close', 'snp500_adj', 'snp500_volume',\n",
              "       'WTI_barrel'],\n",
              "      dtype='object')"
            ]
          },
          "metadata": {
            "tags": []
          },
          "execution_count": 157
        }
      ]
    },
    {
      "cell_type": "code",
      "metadata": {
        "id": "FYfOGOOQD5Ph",
        "colab_type": "code",
        "outputId": "16adfa57-8842-4765-d108-31688031778e",
        "colab": {
          "base_uri": "https://localhost:8080/",
          "height": 340
        }
      },
      "source": [
        "gold.tail()"
      ],
      "execution_count": 0,
      "outputs": [
        {
          "output_type": "execute_result",
          "data": {
            "text/html": [
              "<div>\n",
              "<style scoped>\n",
              "    .dataframe tbody tr th:only-of-type {\n",
              "        vertical-align: middle;\n",
              "    }\n",
              "\n",
              "    .dataframe tbody tr th {\n",
              "        vertical-align: top;\n",
              "    }\n",
              "\n",
              "    .dataframe thead th {\n",
              "        text-align: right;\n",
              "    }\n",
              "</style>\n",
              "<table border=\"1\" class=\"dataframe\">\n",
              "  <thead>\n",
              "    <tr style=\"text-align: right;\">\n",
              "      <th></th>\n",
              "      <th>USD/T.oz</th>\n",
              "      <th>gold_demand</th>\n",
              "      <th>index_price</th>\n",
              "      <th>index_volume</th>\n",
              "      <th>index_change</th>\n",
              "      <th>cny/krw</th>\n",
              "      <th>usd/krw</th>\n",
              "      <th>100jpy/krw</th>\n",
              "      <th>eur/krw</th>\n",
              "      <th>gbp/krw</th>\n",
              "      <th>gold_reserves</th>\n",
              "      <th>brandt_barrel</th>\n",
              "      <th>nasdaq_open</th>\n",
              "      <th>nasdaq_high</th>\n",
              "      <th>nasdaq_low</th>\n",
              "      <th>nasdaq_close</th>\n",
              "      <th>nasdaq_adj</th>\n",
              "      <th>nasdaq_volume</th>\n",
              "      <th>kospi_open</th>\n",
              "      <th>kospi_high</th>\n",
              "      <th>kospi_low</th>\n",
              "      <th>kospi_close</th>\n",
              "      <th>kospi_adj</th>\n",
              "      <th>kospi_volume</th>\n",
              "      <th>dow_open</th>\n",
              "      <th>dow_high</th>\n",
              "      <th>dow_low</th>\n",
              "      <th>dow_close</th>\n",
              "      <th>dow_adj</th>\n",
              "      <th>dow_volume</th>\n",
              "      <th>snp500_open</th>\n",
              "      <th>snp500_high</th>\n",
              "      <th>snp500_low</th>\n",
              "      <th>snp500_close</th>\n",
              "      <th>snp500_adj</th>\n",
              "      <th>snp500_volume</th>\n",
              "      <th>WTI_barrel</th>\n",
              "    </tr>\n",
              "    <tr>\n",
              "      <th>Date</th>\n",
              "      <th></th>\n",
              "      <th></th>\n",
              "      <th></th>\n",
              "      <th></th>\n",
              "      <th></th>\n",
              "      <th></th>\n",
              "      <th></th>\n",
              "      <th></th>\n",
              "      <th></th>\n",
              "      <th></th>\n",
              "      <th></th>\n",
              "      <th></th>\n",
              "      <th></th>\n",
              "      <th></th>\n",
              "      <th></th>\n",
              "      <th></th>\n",
              "      <th></th>\n",
              "      <th></th>\n",
              "      <th></th>\n",
              "      <th></th>\n",
              "      <th></th>\n",
              "      <th></th>\n",
              "      <th></th>\n",
              "      <th></th>\n",
              "      <th></th>\n",
              "      <th></th>\n",
              "      <th></th>\n",
              "      <th></th>\n",
              "      <th></th>\n",
              "      <th></th>\n",
              "      <th></th>\n",
              "      <th></th>\n",
              "      <th></th>\n",
              "      <th></th>\n",
              "      <th></th>\n",
              "      <th></th>\n",
              "      <th></th>\n",
              "    </tr>\n",
              "  </thead>\n",
              "  <tbody>\n",
              "    <tr>\n",
              "      <th>2019-07-25</th>\n",
              "      <td>1426.68</td>\n",
              "      <td>NaN</td>\n",
              "      <td>97.552</td>\n",
              "      <td>24.77</td>\n",
              "      <td>0.10</td>\n",
              "      <td>171.86</td>\n",
              "      <td>1181.5</td>\n",
              "      <td>1093.32</td>\n",
              "      <td>1316.72</td>\n",
              "      <td>1476.58</td>\n",
              "      <td>NaN</td>\n",
              "      <td>NaN</td>\n",
              "      <td>8294.679688</td>\n",
              "      <td>8295.950195</td>\n",
              "      <td>8233.400391</td>\n",
              "      <td>8238.540039</td>\n",
              "      <td>8238.540039</td>\n",
              "      <td>2.023130e+09</td>\n",
              "      <td>2085.669922</td>\n",
              "      <td>2088.810059</td>\n",
              "      <td>2061.080078</td>\n",
              "      <td>2074.479980</td>\n",
              "      <td>2074.479980</td>\n",
              "      <td>600.0</td>\n",
              "      <td>27247.390625</td>\n",
              "      <td>27298.429688</td>\n",
              "      <td>27062.480469</td>\n",
              "      <td>27140.980469</td>\n",
              "      <td>27140.980469</td>\n",
              "      <td>241420000.0</td>\n",
              "      <td>3016.260010</td>\n",
              "      <td>3016.310059</td>\n",
              "      <td>2997.239990</td>\n",
              "      <td>3003.669922</td>\n",
              "      <td>3003.669922</td>\n",
              "      <td>3.645270e+09</td>\n",
              "      <td>55.88</td>\n",
              "    </tr>\n",
              "    <tr>\n",
              "      <th>2019-07-26</th>\n",
              "      <td>1417.70</td>\n",
              "      <td>NaN</td>\n",
              "      <td>97.751</td>\n",
              "      <td>11.84</td>\n",
              "      <td>0.20</td>\n",
              "      <td>172.18</td>\n",
              "      <td>1184.5</td>\n",
              "      <td>1090.05</td>\n",
              "      <td>1318.59</td>\n",
              "      <td>1472.22</td>\n",
              "      <td>NaN</td>\n",
              "      <td>NaN</td>\n",
              "      <td>8294.299805</td>\n",
              "      <td>8339.639648</td>\n",
              "      <td>8291.120117</td>\n",
              "      <td>8330.209961</td>\n",
              "      <td>8330.209961</td>\n",
              "      <td>1.954350e+09</td>\n",
              "      <td>2063.350098</td>\n",
              "      <td>2068.159912</td>\n",
              "      <td>2054.639893</td>\n",
              "      <td>2066.260010</td>\n",
              "      <td>2066.260010</td>\n",
              "      <td>600.0</td>\n",
              "      <td>27166.000000</td>\n",
              "      <td>27213.699219</td>\n",
              "      <td>27123.250000</td>\n",
              "      <td>27192.449219</td>\n",
              "      <td>27192.449219</td>\n",
              "      <td>233650000.0</td>\n",
              "      <td>3013.250000</td>\n",
              "      <td>3027.979980</td>\n",
              "      <td>3012.590088</td>\n",
              "      <td>3025.860107</td>\n",
              "      <td>3025.860107</td>\n",
              "      <td>3.257590e+09</td>\n",
              "      <td>56.04</td>\n",
              "    </tr>\n",
              "    <tr>\n",
              "      <th>2019-07-29</th>\n",
              "      <td>1418.83</td>\n",
              "      <td>NaN</td>\n",
              "      <td>97.796</td>\n",
              "      <td>9.31</td>\n",
              "      <td>0.05</td>\n",
              "      <td>171.78</td>\n",
              "      <td>1184.5</td>\n",
              "      <td>1090.25</td>\n",
              "      <td>1317.52</td>\n",
              "      <td>1459.72</td>\n",
              "      <td>NaN</td>\n",
              "      <td>NaN</td>\n",
              "      <td>8325.099609</td>\n",
              "      <td>8325.280273</td>\n",
              "      <td>8247.370117</td>\n",
              "      <td>8293.330078</td>\n",
              "      <td>8293.330078</td>\n",
              "      <td>1.874780e+09</td>\n",
              "      <td>2059.129883</td>\n",
              "      <td>2063.129883</td>\n",
              "      <td>2025.010010</td>\n",
              "      <td>2029.479980</td>\n",
              "      <td>2029.479980</td>\n",
              "      <td>600.0</td>\n",
              "      <td>27192.240234</td>\n",
              "      <td>27275.849609</td>\n",
              "      <td>27178.060547</td>\n",
              "      <td>27221.349609</td>\n",
              "      <td>27221.349609</td>\n",
              "      <td>250850000.0</td>\n",
              "      <td>3024.469971</td>\n",
              "      <td>3025.610107</td>\n",
              "      <td>3014.300049</td>\n",
              "      <td>3020.969971</td>\n",
              "      <td>3020.969971</td>\n",
              "      <td>3.203710e+09</td>\n",
              "      <td>56.85</td>\n",
              "    </tr>\n",
              "    <tr>\n",
              "      <th>2019-07-30</th>\n",
              "      <td>1426.54</td>\n",
              "      <td>NaN</td>\n",
              "      <td>97.809</td>\n",
              "      <td>9.35</td>\n",
              "      <td>0.01</td>\n",
              "      <td>171.52</td>\n",
              "      <td>1181.0</td>\n",
              "      <td>1087.53</td>\n",
              "      <td>1316.46</td>\n",
              "      <td>1437.63</td>\n",
              "      <td>NaN</td>\n",
              "      <td>NaN</td>\n",
              "      <td>8231.769531</td>\n",
              "      <td>8295.459961</td>\n",
              "      <td>8228.019531</td>\n",
              "      <td>8273.610352</td>\n",
              "      <td>8273.610352</td>\n",
              "      <td>1.884300e+09</td>\n",
              "      <td>2035.319946</td>\n",
              "      <td>2044.589966</td>\n",
              "      <td>2032.609985</td>\n",
              "      <td>2038.680054</td>\n",
              "      <td>2038.680054</td>\n",
              "      <td>500.0</td>\n",
              "      <td>27145.390625</td>\n",
              "      <td>27224.359375</td>\n",
              "      <td>27069.859375</td>\n",
              "      <td>27198.019531</td>\n",
              "      <td>27198.019531</td>\n",
              "      <td>293250000.0</td>\n",
              "      <td>3007.659912</td>\n",
              "      <td>3017.189941</td>\n",
              "      <td>3000.939941</td>\n",
              "      <td>3013.179932</td>\n",
              "      <td>3013.179932</td>\n",
              "      <td>3.634330e+09</td>\n",
              "      <td>NaN</td>\n",
              "    </tr>\n",
              "    <tr>\n",
              "      <th>2019-07-31</th>\n",
              "      <td>1431.99</td>\n",
              "      <td>NaN</td>\n",
              "      <td>98.347</td>\n",
              "      <td>NaN</td>\n",
              "      <td>0.55</td>\n",
              "      <td>171.70</td>\n",
              "      <td>1183.0</td>\n",
              "      <td>1089.62</td>\n",
              "      <td>1318.57</td>\n",
              "      <td>1439.65</td>\n",
              "      <td>NaN</td>\n",
              "      <td>NaN</td>\n",
              "      <td>8290.799805</td>\n",
              "      <td>8299.830078</td>\n",
              "      <td>8110.020020</td>\n",
              "      <td>8175.419922</td>\n",
              "      <td>8175.419922</td>\n",
              "      <td>2.667060e+09</td>\n",
              "      <td>2036.459961</td>\n",
              "      <td>2041.160034</td>\n",
              "      <td>2010.949951</td>\n",
              "      <td>2024.550049</td>\n",
              "      <td>2024.550049</td>\n",
              "      <td>600.0</td>\n",
              "      <td>27244.669922</td>\n",
              "      <td>27281.650391</td>\n",
              "      <td>26719.599609</td>\n",
              "      <td>26864.269531</td>\n",
              "      <td>26864.269531</td>\n",
              "      <td>385150000.0</td>\n",
              "      <td>3016.219971</td>\n",
              "      <td>3017.399902</td>\n",
              "      <td>2958.080078</td>\n",
              "      <td>2980.379883</td>\n",
              "      <td>2980.379883</td>\n",
              "      <td>4.623430e+09</td>\n",
              "      <td>NaN</td>\n",
              "    </tr>\n",
              "  </tbody>\n",
              "</table>\n",
              "</div>"
            ],
            "text/plain": [
              "            USD/T.oz  gold_demand  ...  snp500_volume  WTI_barrel\n",
              "Date                               ...                           \n",
              "2019-07-25   1426.68          NaN  ...   3.645270e+09       55.88\n",
              "2019-07-26   1417.70          NaN  ...   3.257590e+09       56.04\n",
              "2019-07-29   1418.83          NaN  ...   3.203710e+09       56.85\n",
              "2019-07-30   1426.54          NaN  ...   3.634330e+09         NaN\n",
              "2019-07-31   1431.99          NaN  ...   4.623430e+09         NaN\n",
              "\n",
              "[5 rows x 37 columns]"
            ]
          },
          "metadata": {
            "tags": []
          },
          "execution_count": 212
        }
      ]
    },
    {
      "cell_type": "markdown",
      "metadata": {
        "id": "ByNq7ivem4BU",
        "colab_type": "text"
      },
      "source": [
        "## 상관관계를 알아봄 \n"
      ]
    },
    {
      "cell_type": "code",
      "metadata": {
        "id": "DM0m02EAiV5F",
        "colab_type": "code",
        "outputId": "f4f6528b-449d-41c6-e49d-d089238d3e0c",
        "colab": {
          "base_uri": "https://localhost:8080/",
          "height": 145
        }
      },
      "source": [
        "import pandas_profiling\n",
        "df_profile = pandas_profiling.ProfileReport(gold)\n",
        "df_profile.to_file('total_gold_report.html')"
      ],
      "execution_count": 0,
      "outputs": [
        {
          "output_type": "stream",
          "text": [
            "/usr/local/lib/python3.6/dist-packages/pandas/plotting/_converter.py:129: FutureWarning: Using an implicitly registered datetime converter for a matplotlib plotting method. The converter was registered by pandas on import. Future versions of pandas will require you to explicitly register matplotlib converters.\n",
            "\n",
            "To register the converters:\n",
            "\t>>> from pandas.plotting import register_matplotlib_converters\n",
            "\t>>> register_matplotlib_converters()\n",
            "  warnings.warn(msg, FutureWarning)\n"
          ],
          "name": "stderr"
        }
      ]
    },
    {
      "cell_type": "markdown",
      "metadata": {
        "id": "Xp2E_ROW-8dX",
        "colab_type": "text"
      },
      "source": [
        "# (상관관계 확인 후 )"
      ]
    },
    {
      "cell_type": "markdown",
      "metadata": {
        "id": "rrLJauMY_SSV",
        "colab_type": "text"
      },
      "source": [
        "# 필요없는 컬럼 제거 "
      ]
    },
    {
      "cell_type": "code",
      "metadata": {
        "id": "IL21y7CC_R1m",
        "colab_type": "code",
        "colab": {}
      },
      "source": [
        "# 데이터 불러오기\n",
        "gold=pickle.load(open('total_gold.pkl','rb'))"
      ],
      "execution_count": 0,
      "outputs": []
    },
    {
      "cell_type": "code",
      "metadata": {
        "id": "pVZiRgMv_g3c",
        "colab_type": "code",
        "colab": {}
      },
      "source": [
        "# 2010년부터 2019-7월로 데이터를 자름\n",
        "\n",
        "gold=pd.DataFrame(gold['2010-1-01' : '2019-7-31'])"
      ],
      "execution_count": 0,
      "outputs": []
    },
    {
      "cell_type": "code",
      "metadata": {
        "id": "bXrvIFOi_vGG",
        "colab_type": "code",
        "colab": {}
      },
      "source": [
        "# 데이터가 분기별로 되어있고 얼마 없어서 삭제\n",
        "\n",
        "gold = gold.drop(['gold_reserves', 'brandt_barrel', 'gold_demand'], axis=1)\n",
        "# 금 보유량, 브랜트유 가격, 금 수요량"
      ],
      "execution_count": 0,
      "outputs": []
    },
    {
      "cell_type": "markdown",
      "metadata": {
        "id": "3Y0w6ZdkAStp",
        "colab_type": "text"
      },
      "source": [
        "## 주식시장 데이터를 평균값으로 바꿈 "
      ]
    },
    {
      "cell_type": "code",
      "metadata": {
        "id": "LN-ZBUXxANkU",
        "colab_type": "code",
        "colab": {}
      },
      "source": [
        "# 주식시장 평균값으로 새로운 컬럼 생성\n",
        "\n",
        "gold['nasdaq'] = (gold['nasdaq_open'] + gold['nasdaq_high'] + gold['nasdaq_low'] + gold['nasdaq_adj'] + gold['nasdaq_close']) / 5\n",
        "gold['kospi'] = (gold['kospi_open'] + gold['kospi_high'] + gold['kospi_low'] + gold['kospi_adj'] + gold['kospi_close']) / 5\n",
        "gold['dow'] = (gold['dow_open'] + gold['dow_high'] + gold['dow_low'] + gold['dow_adj'] + gold['dow_close']) / 5\n",
        "gold['snp500'] = (gold['snp500_open'] + gold['snp500_high'] + gold['snp500_low'] + gold['snp500_adj'] + gold['snp500_close']) / 5\n"
      ],
      "execution_count": 0,
      "outputs": []
    },
    {
      "cell_type": "code",
      "metadata": {
        "id": "JUwQoeyzAkZG",
        "colab_type": "code",
        "colab": {}
      },
      "source": [
        "# 평균 컬럼 생성 후 필요없어진 컬럼들을 제거 \n",
        "\n",
        "gold = gold.drop(['nasdaq_open', 'nasdaq_high', 'nasdaq_low', 'nasdaq_close', 'nasdaq_adj',\n",
        "                  'kospi_open', 'kospi_high', 'kospi_low', 'kospi_close', 'kospi_adj',\n",
        "                  'dow_open', 'dow_high', 'dow_low', 'dow_close', 'dow_adj',\n",
        "                  'snp500_open', 'snp500_high', 'snp500_low', 'snp500_close', 'snp500_adj'], axis=1)"
      ],
      "execution_count": 0,
      "outputs": []
    },
    {
      "cell_type": "markdown",
      "metadata": {
        "id": "PAo4oe3SAwke",
        "colab_type": "text"
      },
      "source": [
        "## 데이터 NaN값 채우기 "
      ]
    },
    {
      "cell_type": "code",
      "metadata": {
        "id": "5CWwR3mQA03g",
        "colab_type": "code",
        "colab": {}
      },
      "source": [
        "# NaN값을 뒤 데이터 값으로 채움\n",
        "\n",
        "gold = gold.fillna(method='bfill') "
      ],
      "execution_count": 0,
      "outputs": []
    },
    {
      "cell_type": "code",
      "metadata": {
        "id": "pQv0VFdABBXi",
        "colab_type": "code",
        "colab": {}
      },
      "source": [
        "# NaN값을 앞 데이터 값으로 채움\n",
        "\n",
        "gold = gold.fillna(method='ffill')"
      ],
      "execution_count": 0,
      "outputs": []
    },
    {
      "cell_type": "markdown",
      "metadata": {
        "id": "Unio9hNuBld2",
        "colab_type": "text"
      },
      "source": [
        "# 전처리 완료된 데이터를 저장"
      ]
    },
    {
      "cell_type": "code",
      "metadata": {
        "id": "2p_hkBtCBpJK",
        "colab_type": "code",
        "colab": {}
      },
      "source": [
        "# pickle로 저장\n",
        "\n",
        "pickle.dump(gold, open('pre_gold_price.pkl','wb'))"
      ],
      "execution_count": 0,
      "outputs": []
    }
  ]
}